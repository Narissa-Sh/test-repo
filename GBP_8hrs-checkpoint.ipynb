{
 "cells": [
  {
   "cell_type": "code",
   "execution_count": 12,
   "metadata": {
    "collapsed": false,
    "scrolled": true
   },
   "outputs": [
    {
     "data": {
      "text/html": [
       "<div>\n",
       "<table border=\"1\" class=\"dataframe\">\n",
       "  <thead>\n",
       "    <tr style=\"text-align: right;\">\n",
       "      <th></th>\n",
       "      <th>RIC</th>\n",
       "      <th>Ex_Cntrb_ID</th>\n",
       "      <th>Bid_Price</th>\n",
       "      <th>Ask_Price</th>\n",
       "      <th>Mid_Price</th>\n",
       "      <th>Spread</th>\n",
       "      <th>DATE</th>\n",
       "      <th>TIME_MIN</th>\n",
       "    </tr>\n",
       "  </thead>\n",
       "  <tbody>\n",
       "    <tr>\n",
       "      <th>0</th>\n",
       "      <td>GBP=</td>\n",
       "      <td>NEDBANK LTD  JHB</td>\n",
       "      <td>1.2519</td>\n",
       "      <td>1.2529</td>\n",
       "      <td>1.2524</td>\n",
       "      <td>0.001</td>\n",
       "      <td>01/12/2016</td>\n",
       "      <td>00:15:22</td>\n",
       "    </tr>\n",
       "    <tr>\n",
       "      <th>1</th>\n",
       "      <td>GBP=</td>\n",
       "      <td>S E B        STO</td>\n",
       "      <td>1.2519</td>\n",
       "      <td>1.2529</td>\n",
       "      <td>1.2524</td>\n",
       "      <td>0.001</td>\n",
       "      <td>01/12/2016</td>\n",
       "      <td>00:14:41</td>\n",
       "    </tr>\n",
       "    <tr>\n",
       "      <th>2</th>\n",
       "      <td>GBP=</td>\n",
       "      <td>S E B        STO</td>\n",
       "      <td>1.2519</td>\n",
       "      <td>1.2529</td>\n",
       "      <td>1.2524</td>\n",
       "      <td>0.001</td>\n",
       "      <td>01/12/2016</td>\n",
       "      <td>00:15:21</td>\n",
       "    </tr>\n",
       "    <tr>\n",
       "      <th>3</th>\n",
       "      <td>GBP=</td>\n",
       "      <td>S E B        STO</td>\n",
       "      <td>1.2519</td>\n",
       "      <td>1.2529</td>\n",
       "      <td>1.2524</td>\n",
       "      <td>0.001</td>\n",
       "      <td>01/12/2016</td>\n",
       "      <td>00:16:23</td>\n",
       "    </tr>\n",
       "    <tr>\n",
       "      <th>4</th>\n",
       "      <td>GBP=</td>\n",
       "      <td>S E B        STO</td>\n",
       "      <td>1.2518</td>\n",
       "      <td>1.2528</td>\n",
       "      <td>1.2523</td>\n",
       "      <td>0.001</td>\n",
       "      <td>01/12/2016</td>\n",
       "      <td>00:15:01</td>\n",
       "    </tr>\n",
       "    <tr>\n",
       "      <th>5</th>\n",
       "      <td>GBP=</td>\n",
       "      <td>S E B        STO</td>\n",
       "      <td>1.2518</td>\n",
       "      <td>1.2528</td>\n",
       "      <td>1.2523</td>\n",
       "      <td>0.001</td>\n",
       "      <td>01/12/2016</td>\n",
       "      <td>00:15:41</td>\n",
       "    </tr>\n",
       "    <tr>\n",
       "      <th>6</th>\n",
       "      <td>GBP=</td>\n",
       "      <td>S E B        STO</td>\n",
       "      <td>1.2518</td>\n",
       "      <td>1.2528</td>\n",
       "      <td>1.2523</td>\n",
       "      <td>0.001</td>\n",
       "      <td>01/12/2016</td>\n",
       "      <td>00:16:01</td>\n",
       "    </tr>\n",
       "    <tr>\n",
       "      <th>7</th>\n",
       "      <td>GBP=</td>\n",
       "      <td>S E B        STO</td>\n",
       "      <td>1.2518</td>\n",
       "      <td>1.2528</td>\n",
       "      <td>1.2523</td>\n",
       "      <td>0.001</td>\n",
       "      <td>01/12/2016</td>\n",
       "      <td>00:16:42</td>\n",
       "    </tr>\n",
       "    <tr>\n",
       "      <th>8</th>\n",
       "      <td>GBP=</td>\n",
       "      <td>S E B        STO</td>\n",
       "      <td>1.2516</td>\n",
       "      <td>1.2526</td>\n",
       "      <td>1.2521</td>\n",
       "      <td>0.001</td>\n",
       "      <td>01/12/2016</td>\n",
       "      <td>00:09:59</td>\n",
       "    </tr>\n",
       "    <tr>\n",
       "      <th>9</th>\n",
       "      <td>GBP=</td>\n",
       "      <td>S E B        STO</td>\n",
       "      <td>1.2515</td>\n",
       "      <td>1.2525</td>\n",
       "      <td>1.2520</td>\n",
       "      <td>0.001</td>\n",
       "      <td>01/12/2016</td>\n",
       "      <td>00:09:19</td>\n",
       "    </tr>\n",
       "    <tr>\n",
       "      <th>10</th>\n",
       "      <td>GBP=</td>\n",
       "      <td>S E B        STO</td>\n",
       "      <td>1.2515</td>\n",
       "      <td>1.2525</td>\n",
       "      <td>1.2520</td>\n",
       "      <td>0.001</td>\n",
       "      <td>01/12/2016</td>\n",
       "      <td>00:09:39</td>\n",
       "    </tr>\n",
       "    <tr>\n",
       "      <th>11</th>\n",
       "      <td>GBP=</td>\n",
       "      <td>S E B        STO</td>\n",
       "      <td>1.2515</td>\n",
       "      <td>1.2525</td>\n",
       "      <td>1.2520</td>\n",
       "      <td>0.001</td>\n",
       "      <td>01/12/2016</td>\n",
       "      <td>00:10:19</td>\n",
       "    </tr>\n",
       "    <tr>\n",
       "      <th>12</th>\n",
       "      <td>GBP=</td>\n",
       "      <td>S E B        STO</td>\n",
       "      <td>1.2515</td>\n",
       "      <td>1.2525</td>\n",
       "      <td>1.2520</td>\n",
       "      <td>0.001</td>\n",
       "      <td>01/12/2016</td>\n",
       "      <td>00:13:20</td>\n",
       "    </tr>\n",
       "    <tr>\n",
       "      <th>13</th>\n",
       "      <td>GBP=</td>\n",
       "      <td>S E B        STO</td>\n",
       "      <td>1.2514</td>\n",
       "      <td>1.2524</td>\n",
       "      <td>1.2519</td>\n",
       "      <td>0.001</td>\n",
       "      <td>01/12/2016</td>\n",
       "      <td>00:13:00</td>\n",
       "    </tr>\n",
       "    <tr>\n",
       "      <th>14</th>\n",
       "      <td>GBP=</td>\n",
       "      <td>S E B        STO</td>\n",
       "      <td>1.2514</td>\n",
       "      <td>1.2524</td>\n",
       "      <td>1.2519</td>\n",
       "      <td>0.001</td>\n",
       "      <td>01/12/2016</td>\n",
       "      <td>00:13:41</td>\n",
       "    </tr>\n",
       "    <tr>\n",
       "      <th>15</th>\n",
       "      <td>GBP=</td>\n",
       "      <td>S E B        STO</td>\n",
       "      <td>1.2514</td>\n",
       "      <td>1.2524</td>\n",
       "      <td>1.2519</td>\n",
       "      <td>0.001</td>\n",
       "      <td>01/12/2016</td>\n",
       "      <td>00:14:21</td>\n",
       "    </tr>\n",
       "    <tr>\n",
       "      <th>16</th>\n",
       "      <td>GBP=</td>\n",
       "      <td>S E B        STO</td>\n",
       "      <td>1.2513</td>\n",
       "      <td>1.2523</td>\n",
       "      <td>1.2518</td>\n",
       "      <td>0.001</td>\n",
       "      <td>01/12/2016</td>\n",
       "      <td>00:12:40</td>\n",
       "    </tr>\n",
       "    <tr>\n",
       "      <th>17</th>\n",
       "      <td>GBP=</td>\n",
       "      <td>S E B        STO</td>\n",
       "      <td>1.2513</td>\n",
       "      <td>1.2523</td>\n",
       "      <td>1.2518</td>\n",
       "      <td>0.001</td>\n",
       "      <td>01/12/2016</td>\n",
       "      <td>00:14:01</td>\n",
       "    </tr>\n",
       "    <tr>\n",
       "      <th>18</th>\n",
       "      <td>GBP=</td>\n",
       "      <td>S E B        STO</td>\n",
       "      <td>1.2512</td>\n",
       "      <td>1.2522</td>\n",
       "      <td>1.2517</td>\n",
       "      <td>0.001</td>\n",
       "      <td>01/12/2016</td>\n",
       "      <td>00:11:41</td>\n",
       "    </tr>\n",
       "    <tr>\n",
       "      <th>19</th>\n",
       "      <td>GBP=</td>\n",
       "      <td>S E B        STO</td>\n",
       "      <td>1.2512</td>\n",
       "      <td>1.2522</td>\n",
       "      <td>1.2517</td>\n",
       "      <td>0.001</td>\n",
       "      <td>01/12/2016</td>\n",
       "      <td>00:12:00</td>\n",
       "    </tr>\n",
       "    <tr>\n",
       "      <th>20</th>\n",
       "      <td>GBP=</td>\n",
       "      <td>S E B        STO</td>\n",
       "      <td>1.2512</td>\n",
       "      <td>1.2522</td>\n",
       "      <td>1.2517</td>\n",
       "      <td>0.001</td>\n",
       "      <td>01/12/2016</td>\n",
       "      <td>00:12:20</td>\n",
       "    </tr>\n",
       "  </tbody>\n",
       "</table>\n",
       "</div>"
      ],
      "text/plain": [
       "     RIC       Ex_Cntrb_ID  Bid_Price  Ask_Price  Mid_Price  Spread  \\\n",
       "0   GBP=  NEDBANK LTD  JHB     1.2519     1.2529     1.2524   0.001   \n",
       "1   GBP=  S E B        STO     1.2519     1.2529     1.2524   0.001   \n",
       "2   GBP=  S E B        STO     1.2519     1.2529     1.2524   0.001   \n",
       "3   GBP=  S E B        STO     1.2519     1.2529     1.2524   0.001   \n",
       "4   GBP=  S E B        STO     1.2518     1.2528     1.2523   0.001   \n",
       "5   GBP=  S E B        STO     1.2518     1.2528     1.2523   0.001   \n",
       "6   GBP=  S E B        STO     1.2518     1.2528     1.2523   0.001   \n",
       "7   GBP=  S E B        STO     1.2518     1.2528     1.2523   0.001   \n",
       "8   GBP=  S E B        STO     1.2516     1.2526     1.2521   0.001   \n",
       "9   GBP=  S E B        STO     1.2515     1.2525     1.2520   0.001   \n",
       "10  GBP=  S E B        STO     1.2515     1.2525     1.2520   0.001   \n",
       "11  GBP=  S E B        STO     1.2515     1.2525     1.2520   0.001   \n",
       "12  GBP=  S E B        STO     1.2515     1.2525     1.2520   0.001   \n",
       "13  GBP=  S E B        STO     1.2514     1.2524     1.2519   0.001   \n",
       "14  GBP=  S E B        STO     1.2514     1.2524     1.2519   0.001   \n",
       "15  GBP=  S E B        STO     1.2514     1.2524     1.2519   0.001   \n",
       "16  GBP=  S E B        STO     1.2513     1.2523     1.2518   0.001   \n",
       "17  GBP=  S E B        STO     1.2513     1.2523     1.2518   0.001   \n",
       "18  GBP=  S E B        STO     1.2512     1.2522     1.2517   0.001   \n",
       "19  GBP=  S E B        STO     1.2512     1.2522     1.2517   0.001   \n",
       "20  GBP=  S E B        STO     1.2512     1.2522     1.2517   0.001   \n",
       "\n",
       "          DATE  TIME_MIN  \n",
       "0   01/12/2016  00:15:22  \n",
       "1   01/12/2016  00:14:41  \n",
       "2   01/12/2016  00:15:21  \n",
       "3   01/12/2016  00:16:23  \n",
       "4   01/12/2016  00:15:01  \n",
       "5   01/12/2016  00:15:41  \n",
       "6   01/12/2016  00:16:01  \n",
       "7   01/12/2016  00:16:42  \n",
       "8   01/12/2016  00:09:59  \n",
       "9   01/12/2016  00:09:19  \n",
       "10  01/12/2016  00:09:39  \n",
       "11  01/12/2016  00:10:19  \n",
       "12  01/12/2016  00:13:20  \n",
       "13  01/12/2016  00:13:00  \n",
       "14  01/12/2016  00:13:41  \n",
       "15  01/12/2016  00:14:21  \n",
       "16  01/12/2016  00:12:40  \n",
       "17  01/12/2016  00:14:01  \n",
       "18  01/12/2016  00:11:41  \n",
       "19  01/12/2016  00:12:00  \n",
       "20  01/12/2016  00:12:20  "
      ]
     },
     "execution_count": 12,
     "metadata": {},
     "output_type": "execute_result"
    }
   ],
   "source": [
    "import pandas as pd\n",
    "import matplotlib.pyplot as plt \n",
    "%matplotlib inline \n",
    "gbp = pd.read_csv('https://raw.githubusercontent.com/Narissa-Sh/test-repo/master/GBP_7hrs.csv', na_filter=False)\n",
    "gbp.head(21)"
   ]
  },
  {
   "cell_type": "code",
   "execution_count": 2,
   "metadata": {
    "collapsed": true
   },
   "outputs": [],
   "source": [
    "import matplotlib.pyplot as plt\n",
    "plt.rcParams['figure.figsize'] = (8, 6)\n",
    "plt.rcParams['font.size'] = 14"
   ]
  },
  {
   "cell_type": "code",
   "execution_count": 13,
   "metadata": {
    "collapsed": true
   },
   "outputs": [],
   "source": [
    "gbp_cols = ['RIC','Ex_Cntrb_ID','Bid_Price', 'Ask_Price', 'Mid_Price', 'Spread', 'DATE', 'TIME_MIN']\n",
    "url = 'https://raw.githubusercontent.com/Narissa-Sh/test-repo/master/GBP_7hrs.csv'\n",
    "gbp = pd.read_csv(url, header=0, names=gbp_cols, na_filter=False)"
   ]
  },
  {
   "cell_type": "code",
   "execution_count": 14,
   "metadata": {
    "collapsed": false
   },
   "outputs": [
    {
     "data": {
      "text/html": [
       "<div>\n",
       "<table border=\"1\" class=\"dataframe\">\n",
       "  <thead>\n",
       "    <tr style=\"text-align: right;\">\n",
       "      <th></th>\n",
       "      <th>Bid_Price</th>\n",
       "      <th>Ask_Price</th>\n",
       "      <th>Mid_Price</th>\n",
       "      <th>Spread</th>\n",
       "    </tr>\n",
       "    <tr>\n",
       "      <th>Ex_Cntrb_ID</th>\n",
       "      <th></th>\n",
       "      <th></th>\n",
       "      <th></th>\n",
       "      <th></th>\n",
       "    </tr>\n",
       "  </thead>\n",
       "  <tbody>\n",
       "    <tr>\n",
       "      <th>ALFA-BANK    MOW</th>\n",
       "      <td>1.251838</td>\n",
       "      <td>1.251938</td>\n",
       "      <td>1.251888</td>\n",
       "      <td>0.000100</td>\n",
       "    </tr>\n",
       "    <tr>\n",
       "      <th>ASANPACIFIBK MOW</th>\n",
       "      <td>1.251907</td>\n",
       "      <td>1.252013</td>\n",
       "      <td>1.251960</td>\n",
       "      <td>0.000107</td>\n",
       "    </tr>\n",
       "    <tr>\n",
       "      <th>BARCLAYS     LON</th>\n",
       "      <td>1.251788</td>\n",
       "      <td>1.252188</td>\n",
       "      <td>1.251988</td>\n",
       "      <td>0.000400</td>\n",
       "    </tr>\n",
       "    <tr>\n",
       "      <th>BTM          TOK</th>\n",
       "      <td>1.251633</td>\n",
       "      <td>1.252187</td>\n",
       "      <td>1.251910</td>\n",
       "      <td>0.000553</td>\n",
       "    </tr>\n",
       "    <tr>\n",
       "      <th>CIBC         TOR</th>\n",
       "      <td>1.251766</td>\n",
       "      <td>1.252266</td>\n",
       "      <td>1.252016</td>\n",
       "      <td>0.000500</td>\n",
       "    </tr>\n",
       "    <tr>\n",
       "      <th>Commerzbank  FFT</th>\n",
       "      <td>1.251838</td>\n",
       "      <td>1.252138</td>\n",
       "      <td>1.251987</td>\n",
       "      <td>0.000300</td>\n",
       "    </tr>\n",
       "    <tr>\n",
       "      <th>DANSKE BANK  COP</th>\n",
       "      <td>1.251653</td>\n",
       "      <td>1.252286</td>\n",
       "      <td>1.251969</td>\n",
       "      <td>0.000633</td>\n",
       "    </tr>\n",
       "    <tr>\n",
       "      <th>DNB BANK     OSL</th>\n",
       "      <td>1.251754</td>\n",
       "      <td>1.252154</td>\n",
       "      <td>1.251954</td>\n",
       "      <td>0.000400</td>\n",
       "    </tr>\n",
       "    <tr>\n",
       "      <th>HSBC         LON</th>\n",
       "      <td>1.251564</td>\n",
       "      <td>1.252371</td>\n",
       "      <td>1.251968</td>\n",
       "      <td>0.000807</td>\n",
       "    </tr>\n",
       "    <tr>\n",
       "      <th>INTERPROMBAN MOW</th>\n",
       "      <td>1.251815</td>\n",
       "      <td>1.252081</td>\n",
       "      <td>1.251948</td>\n",
       "      <td>0.000266</td>\n",
       "    </tr>\n",
       "    <tr>\n",
       "      <th>MDM BANK     MOW</th>\n",
       "      <td>1.251906</td>\n",
       "      <td>1.252013</td>\n",
       "      <td>1.251960</td>\n",
       "      <td>0.000107</td>\n",
       "    </tr>\n",
       "    <tr>\n",
       "      <th>NEDBANK LTD  JHB</th>\n",
       "      <td>1.251743</td>\n",
       "      <td>1.252188</td>\n",
       "      <td>1.251966</td>\n",
       "      <td>0.000445</td>\n",
       "    </tr>\n",
       "    <tr>\n",
       "      <th>NORDEA       COP</th>\n",
       "      <td>1.251750</td>\n",
       "      <td>1.252150</td>\n",
       "      <td>1.251950</td>\n",
       "      <td>0.000400</td>\n",
       "    </tr>\n",
       "    <tr>\n",
       "      <th>Raiffeisen   MOW</th>\n",
       "      <td>1.251920</td>\n",
       "      <td>1.252036</td>\n",
       "      <td>1.251978</td>\n",
       "      <td>0.000116</td>\n",
       "    </tr>\n",
       "    <tr>\n",
       "      <th>S E B        STO</th>\n",
       "      <td>1.251474</td>\n",
       "      <td>1.252474</td>\n",
       "      <td>1.251974</td>\n",
       "      <td>0.001000</td>\n",
       "    </tr>\n",
       "    <tr>\n",
       "      <th>SOC GEN      SOF</th>\n",
       "      <td>1.251741</td>\n",
       "      <td>1.251941</td>\n",
       "      <td>1.251841</td>\n",
       "      <td>0.000200</td>\n",
       "    </tr>\n",
       "    <tr>\n",
       "      <th>UBS          ZUR</th>\n",
       "      <td>1.251706</td>\n",
       "      <td>1.252206</td>\n",
       "      <td>1.251956</td>\n",
       "      <td>0.000500</td>\n",
       "    </tr>\n",
       "    <tr>\n",
       "      <th>WESTPAC      SYD</th>\n",
       "      <td>1.251775</td>\n",
       "      <td>1.252150</td>\n",
       "      <td>1.251962</td>\n",
       "      <td>0.000375</td>\n",
       "    </tr>\n",
       "    <tr>\n",
       "      <th>ZUERCHER KB  ZUR</th>\n",
       "      <td>1.251875</td>\n",
       "      <td>1.252025</td>\n",
       "      <td>1.251950</td>\n",
       "      <td>0.000150</td>\n",
       "    </tr>\n",
       "  </tbody>\n",
       "</table>\n",
       "</div>"
      ],
      "text/plain": [
       "                  Bid_Price  Ask_Price  Mid_Price    Spread\n",
       "Ex_Cntrb_ID                                                \n",
       "ALFA-BANK    MOW   1.251838   1.251938   1.251888  0.000100\n",
       "ASANPACIFIBK MOW   1.251907   1.252013   1.251960  0.000107\n",
       "BARCLAYS     LON   1.251788   1.252188   1.251988  0.000400\n",
       "BTM          TOK   1.251633   1.252187   1.251910  0.000553\n",
       "CIBC         TOR   1.251766   1.252266   1.252016  0.000500\n",
       "Commerzbank  FFT   1.251838   1.252138   1.251987  0.000300\n",
       "DANSKE BANK  COP   1.251653   1.252286   1.251969  0.000633\n",
       "DNB BANK     OSL   1.251754   1.252154   1.251954  0.000400\n",
       "HSBC         LON   1.251564   1.252371   1.251968  0.000807\n",
       "INTERPROMBAN MOW   1.251815   1.252081   1.251948  0.000266\n",
       "MDM BANK     MOW   1.251906   1.252013   1.251960  0.000107\n",
       "NEDBANK LTD  JHB   1.251743   1.252188   1.251966  0.000445\n",
       "NORDEA       COP   1.251750   1.252150   1.251950  0.000400\n",
       "Raiffeisen   MOW   1.251920   1.252036   1.251978  0.000116\n",
       "S E B        STO   1.251474   1.252474   1.251974  0.001000\n",
       "SOC GEN      SOF   1.251741   1.251941   1.251841  0.000200\n",
       "UBS          ZUR   1.251706   1.252206   1.251956  0.000500\n",
       "WESTPAC      SYD   1.251775   1.252150   1.251962  0.000375\n",
       "ZUERCHER KB  ZUR   1.251875   1.252025   1.251950  0.000150"
      ]
     },
     "execution_count": 14,
     "metadata": {},
     "output_type": "execute_result"
    }
   ],
   "source": [
    "gbp.groupby('Ex_Cntrb_ID').mean()"
   ]
  },
  {
   "cell_type": "code",
   "execution_count": 15,
   "metadata": {
    "collapsed": false
   },
   "outputs": [
    {
     "data": {
      "text/html": [
       "<div>\n",
       "<table border=\"1\" class=\"dataframe\">\n",
       "  <thead>\n",
       "    <tr style=\"text-align: right;\">\n",
       "      <th></th>\n",
       "      <th>Bid_Price</th>\n",
       "      <th>Ask_Price</th>\n",
       "      <th>Mid_Price</th>\n",
       "      <th>Spread</th>\n",
       "    </tr>\n",
       "  </thead>\n",
       "  <tbody>\n",
       "    <tr>\n",
       "      <th>count</th>\n",
       "      <td>922.000000</td>\n",
       "      <td>922.000000</td>\n",
       "      <td>922.000000</td>\n",
       "      <td>922.000000</td>\n",
       "    </tr>\n",
       "    <tr>\n",
       "      <th>mean</th>\n",
       "      <td>1.251774</td>\n",
       "      <td>1.252156</td>\n",
       "      <td>1.251965</td>\n",
       "      <td>0.000382</td>\n",
       "    </tr>\n",
       "    <tr>\n",
       "      <th>std</th>\n",
       "      <td>0.000301</td>\n",
       "      <td>0.000314</td>\n",
       "      <td>0.000286</td>\n",
       "      <td>0.000224</td>\n",
       "    </tr>\n",
       "    <tr>\n",
       "      <th>min</th>\n",
       "      <td>1.250900</td>\n",
       "      <td>1.251300</td>\n",
       "      <td>1.251200</td>\n",
       "      <td>0.000100</td>\n",
       "    </tr>\n",
       "    <tr>\n",
       "      <th>25%</th>\n",
       "      <td>1.251500</td>\n",
       "      <td>1.251900</td>\n",
       "      <td>1.251750</td>\n",
       "      <td>0.000200</td>\n",
       "    </tr>\n",
       "    <tr>\n",
       "      <th>50%</th>\n",
       "      <td>1.251750</td>\n",
       "      <td>1.252100</td>\n",
       "      <td>1.251950</td>\n",
       "      <td>0.000400</td>\n",
       "    </tr>\n",
       "    <tr>\n",
       "      <th>75%</th>\n",
       "      <td>1.252000</td>\n",
       "      <td>1.252400</td>\n",
       "      <td>1.252250</td>\n",
       "      <td>0.000500</td>\n",
       "    </tr>\n",
       "    <tr>\n",
       "      <th>max</th>\n",
       "      <td>1.252300</td>\n",
       "      <td>1.252900</td>\n",
       "      <td>1.252450</td>\n",
       "      <td>0.001000</td>\n",
       "    </tr>\n",
       "  </tbody>\n",
       "</table>\n",
       "</div>"
      ],
      "text/plain": [
       "        Bid_Price   Ask_Price   Mid_Price      Spread\n",
       "count  922.000000  922.000000  922.000000  922.000000\n",
       "mean     1.251774    1.252156    1.251965    0.000382\n",
       "std      0.000301    0.000314    0.000286    0.000224\n",
       "min      1.250900    1.251300    1.251200    0.000100\n",
       "25%      1.251500    1.251900    1.251750    0.000200\n",
       "50%      1.251750    1.252100    1.251950    0.000400\n",
       "75%      1.252000    1.252400    1.252250    0.000500\n",
       "max      1.252300    1.252900    1.252450    0.001000"
      ]
     },
     "execution_count": 15,
     "metadata": {},
     "output_type": "execute_result"
    }
   ],
   "source": [
    "gbp.describe()"
   ]
  },
  {
   "cell_type": "code",
   "execution_count": 21,
   "metadata": {
    "collapsed": false
   },
   "outputs": [
    {
     "data": {
      "text/html": [
       "<div>\n",
       "<table border=\"1\" class=\"dataframe\">\n",
       "  <thead>\n",
       "    <tr style=\"text-align: right;\">\n",
       "      <th></th>\n",
       "      <th>RIC</th>\n",
       "      <th>Bid_Price</th>\n",
       "      <th>Ask_Price</th>\n",
       "      <th>Mid_Price</th>\n",
       "      <th>Spread</th>\n",
       "      <th>DATE</th>\n",
       "      <th>TIME_MIN</th>\n",
       "    </tr>\n",
       "    <tr>\n",
       "      <th>Ex_Cntrb_ID</th>\n",
       "      <th></th>\n",
       "      <th></th>\n",
       "      <th></th>\n",
       "      <th></th>\n",
       "      <th></th>\n",
       "      <th></th>\n",
       "      <th></th>\n",
       "    </tr>\n",
       "  </thead>\n",
       "  <tbody>\n",
       "    <tr>\n",
       "      <th>ALFA-BANK    MOW</th>\n",
       "      <td>26</td>\n",
       "      <td>26</td>\n",
       "      <td>26</td>\n",
       "      <td>26</td>\n",
       "      <td>26</td>\n",
       "      <td>26</td>\n",
       "      <td>26</td>\n",
       "    </tr>\n",
       "    <tr>\n",
       "      <th>ASANPACIFIBK MOW</th>\n",
       "      <td>76</td>\n",
       "      <td>76</td>\n",
       "      <td>76</td>\n",
       "      <td>76</td>\n",
       "      <td>76</td>\n",
       "      <td>76</td>\n",
       "      <td>76</td>\n",
       "    </tr>\n",
       "    <tr>\n",
       "      <th>BARCLAYS     LON</th>\n",
       "      <td>121</td>\n",
       "      <td>121</td>\n",
       "      <td>121</td>\n",
       "      <td>121</td>\n",
       "      <td>121</td>\n",
       "      <td>121</td>\n",
       "      <td>121</td>\n",
       "    </tr>\n",
       "    <tr>\n",
       "      <th>BTM          TOK</th>\n",
       "      <td>15</td>\n",
       "      <td>15</td>\n",
       "      <td>15</td>\n",
       "      <td>15</td>\n",
       "      <td>15</td>\n",
       "      <td>15</td>\n",
       "      <td>15</td>\n",
       "    </tr>\n",
       "    <tr>\n",
       "      <th>CIBC         TOR</th>\n",
       "      <td>93</td>\n",
       "      <td>93</td>\n",
       "      <td>93</td>\n",
       "      <td>93</td>\n",
       "      <td>93</td>\n",
       "      <td>93</td>\n",
       "      <td>93</td>\n",
       "    </tr>\n",
       "    <tr>\n",
       "      <th>Commerzbank  FFT</th>\n",
       "      <td>40</td>\n",
       "      <td>40</td>\n",
       "      <td>40</td>\n",
       "      <td>40</td>\n",
       "      <td>40</td>\n",
       "      <td>40</td>\n",
       "      <td>40</td>\n",
       "    </tr>\n",
       "    <tr>\n",
       "      <th>DANSKE BANK  COP</th>\n",
       "      <td>144</td>\n",
       "      <td>144</td>\n",
       "      <td>144</td>\n",
       "      <td>144</td>\n",
       "      <td>144</td>\n",
       "      <td>144</td>\n",
       "      <td>144</td>\n",
       "    </tr>\n",
       "    <tr>\n",
       "      <th>DNB BANK     OSL</th>\n",
       "      <td>48</td>\n",
       "      <td>48</td>\n",
       "      <td>48</td>\n",
       "      <td>48</td>\n",
       "      <td>48</td>\n",
       "      <td>48</td>\n",
       "      <td>48</td>\n",
       "    </tr>\n",
       "    <tr>\n",
       "      <th>HSBC         LON</th>\n",
       "      <td>14</td>\n",
       "      <td>14</td>\n",
       "      <td>14</td>\n",
       "      <td>14</td>\n",
       "      <td>14</td>\n",
       "      <td>14</td>\n",
       "      <td>14</td>\n",
       "    </tr>\n",
       "    <tr>\n",
       "      <th>INTERPROMBAN MOW</th>\n",
       "      <td>80</td>\n",
       "      <td>80</td>\n",
       "      <td>80</td>\n",
       "      <td>80</td>\n",
       "      <td>80</td>\n",
       "      <td>80</td>\n",
       "      <td>80</td>\n",
       "    </tr>\n",
       "    <tr>\n",
       "      <th>MDM BANK     MOW</th>\n",
       "      <td>68</td>\n",
       "      <td>68</td>\n",
       "      <td>68</td>\n",
       "      <td>68</td>\n",
       "      <td>68</td>\n",
       "      <td>68</td>\n",
       "      <td>68</td>\n",
       "    </tr>\n",
       "    <tr>\n",
       "      <th>NEDBANK LTD  JHB</th>\n",
       "      <td>60</td>\n",
       "      <td>60</td>\n",
       "      <td>60</td>\n",
       "      <td>60</td>\n",
       "      <td>60</td>\n",
       "      <td>60</td>\n",
       "      <td>60</td>\n",
       "    </tr>\n",
       "    <tr>\n",
       "      <th>NORDEA       COP</th>\n",
       "      <td>10</td>\n",
       "      <td>10</td>\n",
       "      <td>10</td>\n",
       "      <td>10</td>\n",
       "      <td>10</td>\n",
       "      <td>10</td>\n",
       "      <td>10</td>\n",
       "    </tr>\n",
       "    <tr>\n",
       "      <th>Raiffeisen   MOW</th>\n",
       "      <td>44</td>\n",
       "      <td>44</td>\n",
       "      <td>44</td>\n",
       "      <td>44</td>\n",
       "      <td>44</td>\n",
       "      <td>44</td>\n",
       "      <td>44</td>\n",
       "    </tr>\n",
       "    <tr>\n",
       "      <th>S E B        STO</th>\n",
       "      <td>23</td>\n",
       "      <td>23</td>\n",
       "      <td>23</td>\n",
       "      <td>23</td>\n",
       "      <td>23</td>\n",
       "      <td>23</td>\n",
       "      <td>23</td>\n",
       "    </tr>\n",
       "    <tr>\n",
       "      <th>SOC GEN      SOF</th>\n",
       "      <td>32</td>\n",
       "      <td>32</td>\n",
       "      <td>32</td>\n",
       "      <td>32</td>\n",
       "      <td>32</td>\n",
       "      <td>32</td>\n",
       "      <td>32</td>\n",
       "    </tr>\n",
       "    <tr>\n",
       "      <th>UBS          ZUR</th>\n",
       "      <td>16</td>\n",
       "      <td>16</td>\n",
       "      <td>16</td>\n",
       "      <td>16</td>\n",
       "      <td>16</td>\n",
       "      <td>16</td>\n",
       "      <td>16</td>\n",
       "    </tr>\n",
       "    <tr>\n",
       "      <th>WESTPAC      SYD</th>\n",
       "      <td>4</td>\n",
       "      <td>4</td>\n",
       "      <td>4</td>\n",
       "      <td>4</td>\n",
       "      <td>4</td>\n",
       "      <td>4</td>\n",
       "      <td>4</td>\n",
       "    </tr>\n",
       "    <tr>\n",
       "      <th>ZUERCHER KB  ZUR</th>\n",
       "      <td>8</td>\n",
       "      <td>8</td>\n",
       "      <td>8</td>\n",
       "      <td>8</td>\n",
       "      <td>8</td>\n",
       "      <td>8</td>\n",
       "      <td>8</td>\n",
       "    </tr>\n",
       "  </tbody>\n",
       "</table>\n",
       "</div>"
      ],
      "text/plain": [
       "                  RIC  Bid_Price  Ask_Price  Mid_Price  Spread  DATE  TIME_MIN\n",
       "Ex_Cntrb_ID                                                                   \n",
       "ALFA-BANK    MOW   26         26         26         26      26    26        26\n",
       "ASANPACIFIBK MOW   76         76         76         76      76    76        76\n",
       "BARCLAYS     LON  121        121        121        121     121   121       121\n",
       "BTM          TOK   15         15         15         15      15    15        15\n",
       "CIBC         TOR   93         93         93         93      93    93        93\n",
       "Commerzbank  FFT   40         40         40         40      40    40        40\n",
       "DANSKE BANK  COP  144        144        144        144     144   144       144\n",
       "DNB BANK     OSL   48         48         48         48      48    48        48\n",
       "HSBC         LON   14         14         14         14      14    14        14\n",
       "INTERPROMBAN MOW   80         80         80         80      80    80        80\n",
       "MDM BANK     MOW   68         68         68         68      68    68        68\n",
       "NEDBANK LTD  JHB   60         60         60         60      60    60        60\n",
       "NORDEA       COP   10         10         10         10      10    10        10\n",
       "Raiffeisen   MOW   44         44         44         44      44    44        44\n",
       "S E B        STO   23         23         23         23      23    23        23\n",
       "SOC GEN      SOF   32         32         32         32      32    32        32\n",
       "UBS          ZUR   16         16         16         16      16    16        16\n",
       "WESTPAC      SYD    4          4          4          4       4     4         4\n",
       "ZUERCHER KB  ZUR    8          8          8          8       8     8         8"
      ]
     },
     "execution_count": 21,
     "metadata": {},
     "output_type": "execute_result"
    }
   ],
   "source": [
    "gbp.groupby('Ex_Cntrb_ID').count()"
   ]
  },
  {
   "cell_type": "code",
   "execution_count": 27,
   "metadata": {
    "collapsed": false
   },
   "outputs": [
    {
     "data": {
      "text/plain": [
       "<matplotlib.text.Text at 0xb791908>"
      ]
     },
     "execution_count": 27,
     "metadata": {},
     "output_type": "execute_result"
    },
    {
     "data": {
      "image/png": "[encoded data removed]",
      "text/plain": [
       "<matplotlib.figure.Figure at 0xa60fb00>"
      ]
     },
     "metadata": {},
     "output_type": "display_data"
    }
   ],
   "source": [
    "bins = [1.2512, 1.25245]\n",
    "gbp.Mid_Price.plot(kind='hist', bins=15, title='GBP contributed mid price')\n",
    "plt.xlabel('Midprice')\n",
    "plt.ylabel('Count')"
   ]
  },
  {
   "cell_type": "code",
   "execution_count": 38,
   "metadata": {
    "collapsed": false
   },
   "outputs": [
    {
     "data": {
      "text/plain": [
       "<matplotlib.axes._subplots.AxesSubplot at 0xce1ada0>"
      ]
     },
     "execution_count": 38,
     "metadata": {},
     "output_type": "execute_result"
    },
    {
     "data": {
      "image/png": "[encoded data removed]",
      "text/plain": [
       "<matplotlib.figure.Figure at 0xcf5d588>"
      ]
     },
     "metadata": {},
     "output_type": "display_data"
    }
   ],
   "source": [
    "import numpy as np\n",
    "gbp.plot(kind='scatter', x='Spread', y='Mid_Price', \n",
    "         ylim = (1.2510, 1.2525), xlim = (0,0.0015))\n",
    "\n",
    "\n"
   ]
  },
  {
   "cell_type": "code",
   "execution_count": 45,
   "metadata": {
    "collapsed": false
   },
   "outputs": [
    {
     "data": {
      "text/plain": [
       "<matplotlib.axes._subplots.AxesSubplot at 0xe2abc88>"
      ]
     },
     "execution_count": 45,
     "metadata": {},
     "output_type": "execute_result"
    },
    {
     "data": {
      "image/png": "[encoded data removed]",
      "text/plain": [
       "<matplotlib.figure.Figure at 0xe42c7f0>"
      ]
     },
     "metadata": {},
     "output_type": "display_data"
    }
   ],
   "source": [
    "import numpy as np\n",
    "gbp.plot(kind='scatter', x='Spread', y='Mid_Price', ylim = (1.2510, 1.2525), xlim = (0,0.0015), alpha = 0.2) "
   ]
  },
  {
   "cell_type": "code",
   "execution_count": 60,
   "metadata": {
    "collapsed": false
   },
   "outputs": [
    {
     "data": {
      "text/plain": [
       "<matplotlib.axes._subplots.AxesSubplot at 0x1068e9e8>"
      ]
     },
     "execution_count": 60,
     "metadata": {},
     "output_type": "execute_result"
    },
    {
     "data": {
      "image/png": "[encoded data removed]",
      "text/plain": [
       "<matplotlib.figure.Figure at 0xee0e860>"
      ]
     },
     "metadata": {},
     "output_type": "display_data"
    }
   ],
   "source": [
    "gbp.plot(kind='scatter', x='Spread', y='Mid_Price', c = 'Mid_Price', ylim = (1.2510, 1.2525), xlim = (0,0.0015), colormap= 'magma')"
   ]
  },
  {
   "cell_type": "code",
   "execution_count": 65,
   "metadata": {
    "collapsed": false
   },
   "outputs": [
    {
     "data": {
      "text/plain": [
       "array([[<matplotlib.axes._subplots.AxesSubplot object at 0x00000000121B5828>,\n",
       "        <matplotlib.axes._subplots.AxesSubplot object at 0x0000000011D02748>],\n",
       "       [<matplotlib.axes._subplots.AxesSubplot object at 0x0000000011AFE7B8>,\n",
       "        <matplotlib.axes._subplots.AxesSubplot object at 0x00000000113CF550>]], dtype=object)"
      ]
     },
     "execution_count": 65,
     "metadata": {},
     "output_type": "execute_result"
    },
    {
     "data": {
      "image/png": "[encoded data removed]",
      "text/plain": [
       "<matplotlib.figure.Figure at 0x11d68c18>"
      ]
     },
     "metadata": {},
     "output_type": "display_data"
    }
   ],
   "source": [
    "pd.scatter_matrix(gbp[['Spread','Mid_Price']], figsize = (8,6))"
   ]
  },
  {
   "cell_type": "code",
   "execution_count": 66,
   "metadata": {
    "collapsed": false
   },
   "outputs": [
    {
     "data": {
      "text/plain": [
       "DANSKE BANK  COP    144\n",
       "BARCLAYS     LON    121\n",
       "CIBC         TOR     93\n",
       "INTERPROMBAN MOW     80\n",
       "ASANPACIFIBK MOW     76\n",
       "MDM BANK     MOW     68\n",
       "NEDBANK LTD  JHB     60\n",
       "DNB BANK     OSL     48\n",
       "Raiffeisen   MOW     44\n",
       "Commerzbank  FFT     40\n",
       "SOC GEN      SOF     32\n",
       "ALFA-BANK    MOW     26\n",
       "S E B        STO     23\n",
       "UBS          ZUR     16\n",
       "BTM          TOK     15\n",
       "HSBC         LON     14\n",
       "NORDEA       COP     10\n",
       "ZUERCHER KB  ZUR      8\n",
       "WESTPAC      SYD      4\n",
       "Name: Ex_Cntrb_ID, dtype: int64"
      ]
     },
     "execution_count": 66,
     "metadata": {},
     "output_type": "execute_result"
    }
   ],
   "source": [
    "gbp.Ex_Cntrb_ID.value_counts()"
   ]
  },
  {
   "cell_type": "code",
   "execution_count": 67,
   "metadata": {
    "collapsed": false
   },
   "outputs": [
    {
     "data": {
      "text/plain": [
       "<matplotlib.axes._subplots.AxesSubplot at 0x11b2ebe0>"
      ]
     },
     "execution_count": 67,
     "metadata": {},
     "output_type": "execute_result"
    },
    {
     "data": {
      "image/png": "[encoded data removed]",
      "text/plain": [
       "<matplotlib.figure.Figure at 0x122e0e10>"
      ]
     },
     "metadata": {},
     "output_type": "display_data"
    }
   ],
   "source": [
    "gbp.Ex_Cntrb_ID.value_counts().plot(kind='bar')"
   ]
  },
  {
   "cell_type": "code",
   "execution_count": 7,
   "metadata": {
    "collapsed": false
   },
   "outputs": [
    {
     "data": {
      "text/plain": [
       "<matplotlib.axes._subplots.AxesSubplot at 0x9e85470>"
      ]
     },
     "execution_count": 7,
     "metadata": {},
     "output_type": "execute_result"
    },
    {
     "data": {
      "image/png": "[encoded data removed]",
      "text/plain": [
       "<matplotlib.figure.Figure at 0x9ef5f60>"
      ]
     },
     "metadata": {},
     "output_type": "display_data"
    }
   ],
   "source": [
    "gbp.groupby('Ex_Cntrb_ID').mean().plot(kind='bar')"
   ]
  },
  {
   "cell_type": "code",
   "execution_count": 8,
   "metadata": {
    "collapsed": false
   },
   "outputs": [
    {
     "name": "stdout",
     "output_type": "stream",
     "text": [
      "0\n",
      "1\n",
      "2\n",
      "3\n",
      "4\n",
      "5\n",
      "6\n",
      "7\n",
      "8\n",
      "9\n",
      "10\n",
      "11\n",
      "12\n",
      "13\n",
      "14\n",
      "15\n",
      "16\n",
      "17\n",
      "18\n",
      "19\n",
      "20\n",
      "21\n",
      "22\n",
      "23\n"
     ]
    }
   ],
   "source": []
  },
  {
   "cell_type": "code",
   "execution_count": 9,
   "metadata": {
    "collapsed": false
   },
   "outputs": [
    {
     "ename": "AttributeError",
     "evalue": "'module' object has no attribute 'today'",
     "output_type": "error",
     "traceback": [
      "\u001b[0;31m---------------------------------------------------------------------------\u001b[0m",
      "\u001b[0;31mAttributeError\u001b[0m                            Traceback (most recent call last)",
      "\u001b[0;32m<ipython-input-9-d7bbb57476af>\u001b[0m in \u001b[0;36m<module>\u001b[0;34m()\u001b[0m\n\u001b[1;32m      1\u001b[0m \u001b[1;32mimport\u001b[0m \u001b[0mdatetime\u001b[0m\u001b[1;33m\u001b[0m\u001b[0m\n\u001b[0;32m----> 2\u001b[0;31m \u001b[1;32mprint\u001b[0m \u001b[0mdatetime\u001b[0m\u001b[1;33m.\u001b[0m\u001b[0mtoday\u001b[0m\u001b[1;33m(\u001b[0m\u001b[1;33m)\u001b[0m\u001b[1;33m\u001b[0m\u001b[0m\n\u001b[0m",
      "\u001b[0;31mAttributeError\u001b[0m: 'module' object has no attribute 'today'"
     ]
    }
   ],
   "source": [
    "import datetime \n",
    "print datetime.today()"
   ]
  }
 ],
 "metadata": {
  "kernelspec": {
   "display_name": "Python 2",
   "language": "python",
   "name": "python2"
  },
  "language_info": {
   "codemirror_mode": {
    "name": "ipython",
    "version": 2
   },
   "file_extension": ".py",
   "mimetype": "text/x-python",
   "name": "python",
   "nbconvert_exporter": "python",
   "pygments_lexer": "ipython2",
   "version": "2.7.13"
  }
 },
 "nbformat": 4,
 "nbformat_minor": 2
}
