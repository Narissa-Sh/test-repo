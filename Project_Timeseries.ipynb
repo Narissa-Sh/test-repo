{
 "cells": [
  {
   "cell_type": "code",
   "execution_count": 1,
   "metadata": {
    "collapsed": false
   },
   "outputs": [],
   "source": [
    "import pandas as pd\n",
    "url = 'https://raw.githubusercontent.com/Narissa-Sh/test-repo/master/bitcoin_v1.csv'\n",
    "data = pd.read_csv(url, na_filter=False)\n",
    "\n"
   ]
  },
  {
   "cell_type": "code",
   "execution_count": 2,
   "metadata": {
    "collapsed": true
   },
   "outputs": [],
   "source": [
    "import matplotlib.pyplot as plt\n",
    "import seaborn as sb\n",
    "%matplotlib inline\n",
    "plt.rcParams['figure.figsize'] = (17, 4)\n",
    "plt.rcParams['font.size'] = 14"
   ]
  },
  {
   "cell_type": "code",
   "execution_count": 3,
   "metadata": {
    "collapsed": false
   },
   "outputs": [
    {
     "data": {
      "text/html": [
       "<div>\n",
       "<table border=\"1\" class=\"dataframe\">\n",
       "  <thead>\n",
       "    <tr style=\"text-align: right;\">\n",
       "      <th></th>\n",
       "      <th>Date</th>\n",
       "      <th>Open</th>\n",
       "      <th>High</th>\n",
       "      <th>Low</th>\n",
       "      <th>Last</th>\n",
       "      <th>Vol</th>\n",
       "      <th>Diff</th>\n",
       "      <th>Hash</th>\n",
       "      <th>LS</th>\n",
       "      <th>LS_TH_S</th>\n",
       "      <th>LS_P</th>\n",
       "      <th>LS_MWh_TH</th>\n",
       "      <th>HS</th>\n",
       "      <th>HS_TH_S</th>\n",
       "      <th>HS_P</th>\n",
       "      <th>HS_MWh_TH</th>\n",
       "      <th>UK_EP</th>\n",
       "      <th>US_EP</th>\n",
       "      <th>AUS_EP</th>\n",
       "      <th>RU_EP</th>\n",
       "    </tr>\n",
       "  </thead>\n",
       "  <tbody>\n",
       "    <tr>\n",
       "      <th>1800</th>\n",
       "      <td>2017-03-27</td>\n",
       "      <td>959.08</td>\n",
       "      <td>1043.00</td>\n",
       "      <td>952.95</td>\n",
       "      <td>1039.92</td>\n",
       "      <td>79080569.24</td>\n",
       "      <td>475705205061</td>\n",
       "      <td>3925474.045</td>\n",
       "      <td>S7</td>\n",
       "      <td>4.73</td>\n",
       "      <td>479.95</td>\n",
       "      <td>0.9</td>\n",
       "      <td>S9</td>\n",
       "      <td>13.5</td>\n",
       "      <td>2280.0</td>\n",
       "      <td>0.3528</td>\n",
       "      <td>52.346010</td>\n",
       "      <td>27.96688</td>\n",
       "      <td>75.92155</td>\n",
       "      <td>18.0333</td>\n",
       "    </tr>\n",
       "    <tr>\n",
       "      <th>1801</th>\n",
       "      <td>2017-03-28</td>\n",
       "      <td>1039.09</td>\n",
       "      <td>1068.26</td>\n",
       "      <td>1014.90</td>\n",
       "      <td>1043.99</td>\n",
       "      <td>79080569.24</td>\n",
       "      <td>475705205061</td>\n",
       "      <td>3665352.271</td>\n",
       "      <td>S7</td>\n",
       "      <td>4.73</td>\n",
       "      <td>479.95</td>\n",
       "      <td>0.9</td>\n",
       "      <td>S9</td>\n",
       "      <td>13.5</td>\n",
       "      <td>2280.0</td>\n",
       "      <td>0.3528</td>\n",
       "      <td>49.792000</td>\n",
       "      <td>28.59125</td>\n",
       "      <td>78.787826</td>\n",
       "      <td>17.1052</td>\n",
       "    </tr>\n",
       "    <tr>\n",
       "      <th>1802</th>\n",
       "      <td>2017-03-29</td>\n",
       "      <td>1042.83</td>\n",
       "      <td>1059.43</td>\n",
       "      <td>1008.16</td>\n",
       "      <td>1035.96</td>\n",
       "      <td>61677763.73</td>\n",
       "      <td>475705205061</td>\n",
       "      <td>3665352.271</td>\n",
       "      <td>S7</td>\n",
       "      <td>4.73</td>\n",
       "      <td>479.95</td>\n",
       "      <td>0.9</td>\n",
       "      <td>S9</td>\n",
       "      <td>13.5</td>\n",
       "      <td>2280.0</td>\n",
       "      <td>0.3528</td>\n",
       "      <td>47.863200</td>\n",
       "      <td>28.11250</td>\n",
       "      <td>97.531907</td>\n",
       "      <td>17.4938</td>\n",
       "    </tr>\n",
       "    <tr>\n",
       "      <th>1803</th>\n",
       "      <td>2017-03-30</td>\n",
       "      <td>1037.29</td>\n",
       "      <td>1050.17</td>\n",
       "      <td>1017.14</td>\n",
       "      <td>1033.70</td>\n",
       "      <td>61677763.73</td>\n",
       "      <td>482855238677</td>\n",
       "      <td>4073274.033</td>\n",
       "      <td>S7</td>\n",
       "      <td>4.73</td>\n",
       "      <td>479.95</td>\n",
       "      <td>0.9</td>\n",
       "      <td>S9</td>\n",
       "      <td>13.5</td>\n",
       "      <td>2280.0</td>\n",
       "      <td>0.3528</td>\n",
       "      <td>49.860000</td>\n",
       "      <td>29.52563</td>\n",
       "      <td>85.6444</td>\n",
       "      <td>17.3662</td>\n",
       "    </tr>\n",
       "    <tr>\n",
       "      <th>1804</th>\n",
       "      <td>2017-03-31</td>\n",
       "      <td>1033.79</td>\n",
       "      <td>1081.00</td>\n",
       "      <td>1031.43</td>\n",
       "      <td>1070.31</td>\n",
       "      <td>75018988.17</td>\n",
       "      <td>482855238677</td>\n",
       "      <td>4073274.033</td>\n",
       "      <td>S7</td>\n",
       "      <td>4.73</td>\n",
       "      <td>479.95</td>\n",
       "      <td>0.9</td>\n",
       "      <td>S9</td>\n",
       "      <td>13.5</td>\n",
       "      <td>2280.0</td>\n",
       "      <td>0.3528</td>\n",
       "      <td>51.283960</td>\n",
       "      <td>31.34000</td>\n",
       "      <td>75.837576</td>\n",
       "      <td>16.9233</td>\n",
       "    </tr>\n",
       "    <tr>\n",
       "      <th>1805</th>\n",
       "      <td>2017-04-01</td>\n",
       "      <td>1071.34</td>\n",
       "      <td>1097.00</td>\n",
       "      <td>1061.64</td>\n",
       "      <td>1083.94</td>\n",
       "      <td>75018988.17</td>\n",
       "      <td>499635929816</td>\n",
       "      <td>3278488.856</td>\n",
       "      <td>S7</td>\n",
       "      <td>4.73</td>\n",
       "      <td>479.95</td>\n",
       "      <td>0.9</td>\n",
       "      <td>S9</td>\n",
       "      <td>13.5</td>\n",
       "      <td>2280.0</td>\n",
       "      <td>0.3528</td>\n",
       "      <td>51.283960</td>\n",
       "      <td>24.64500</td>\n",
       "      <td>78.919288</td>\n",
       "      <td>17.4338</td>\n",
       "    </tr>\n",
       "    <tr>\n",
       "      <th>1806</th>\n",
       "      <td>2017-04-02</td>\n",
       "      <td>1083.95</td>\n",
       "      <td>1100.00</td>\n",
       "      <td>1066.49</td>\n",
       "      <td>1078.01</td>\n",
       "      <td>59295644.26</td>\n",
       "      <td>499635929816</td>\n",
       "      <td>3278488.856</td>\n",
       "      <td>S7</td>\n",
       "      <td>4.73</td>\n",
       "      <td>479.95</td>\n",
       "      <td>0.9</td>\n",
       "      <td>S9</td>\n",
       "      <td>13.5</td>\n",
       "      <td>2280.0</td>\n",
       "      <td>0.3528</td>\n",
       "      <td>51.283960</td>\n",
       "      <td>24.76937</td>\n",
       "      <td>70.070808</td>\n",
       "      <td>19.1728</td>\n",
       "    </tr>\n",
       "    <tr>\n",
       "      <th>1807</th>\n",
       "      <td>2017-04-03</td>\n",
       "      <td>1076.59</td>\n",
       "      <td>1152.00</td>\n",
       "      <td>1076.19</td>\n",
       "      <td>1144.77</td>\n",
       "      <td>59295644.26</td>\n",
       "      <td>499635929816</td>\n",
       "      <td>4371318.475</td>\n",
       "      <td>S7</td>\n",
       "      <td>4.73</td>\n",
       "      <td>479.95</td>\n",
       "      <td>0.9</td>\n",
       "      <td>S9</td>\n",
       "      <td>13.5</td>\n",
       "      <td>2280.0</td>\n",
       "      <td>0.3528</td>\n",
       "      <td>50.755590</td>\n",
       "      <td>29.59562</td>\n",
       "      <td>76.785302</td>\n",
       "      <td>18.9957</td>\n",
       "    </tr>\n",
       "    <tr>\n",
       "      <th>1808</th>\n",
       "      <td>2017-04-04</td>\n",
       "      <td>1146.42</td>\n",
       "      <td>1162.93</td>\n",
       "      <td>1118.85</td>\n",
       "      <td>1143.00</td>\n",
       "      <td>67370298.18</td>\n",
       "      <td>499635929816</td>\n",
       "      <td>4371318.475</td>\n",
       "      <td>S7</td>\n",
       "      <td>4.73</td>\n",
       "      <td>479.95</td>\n",
       "      <td>0.9</td>\n",
       "      <td>S9</td>\n",
       "      <td>13.5</td>\n",
       "      <td>2280.0</td>\n",
       "      <td>0.3528</td>\n",
       "      <td>53.176725</td>\n",
       "      <td>26.35250</td>\n",
       "      <td>83.04174</td>\n",
       "      <td>18.9614</td>\n",
       "    </tr>\n",
       "    <tr>\n",
       "      <th>1809</th>\n",
       "      <td>2017-04-05</td>\n",
       "      <td>1143.00</td>\n",
       "      <td>1145.00</td>\n",
       "      <td>1111.00</td>\n",
       "      <td>1134.58</td>\n",
       "      <td>67370298.18</td>\n",
       "      <td>499635929816</td>\n",
       "      <td>4023599.960</td>\n",
       "      <td>S7</td>\n",
       "      <td>4.73</td>\n",
       "      <td>479.95</td>\n",
       "      <td>0.9</td>\n",
       "      <td>S9</td>\n",
       "      <td>13.5</td>\n",
       "      <td>2280.0</td>\n",
       "      <td>0.3528</td>\n",
       "      <td>55.161600</td>\n",
       "      <td>29.02312</td>\n",
       "      <td>105.137136</td>\n",
       "      <td>18.0428</td>\n",
       "    </tr>\n",
       "    <tr>\n",
       "      <th>1810</th>\n",
       "      <td>2017-04-06</td>\n",
       "      <td>1134.86</td>\n",
       "      <td>1201.37</td>\n",
       "      <td>1134.36</td>\n",
       "      <td>1190.85</td>\n",
       "      <td>92291084.79</td>\n",
       "      <td>499635929816</td>\n",
       "      <td>4023599.960</td>\n",
       "      <td>S7</td>\n",
       "      <td>4.73</td>\n",
       "      <td>479.95</td>\n",
       "      <td>0.9</td>\n",
       "      <td>S9</td>\n",
       "      <td>13.5</td>\n",
       "      <td>2280.0</td>\n",
       "      <td>0.3528</td>\n",
       "      <td>55.473700</td>\n",
       "      <td>25.99813</td>\n",
       "      <td>96.10821</td>\n",
       "      <td>20.2112</td>\n",
       "    </tr>\n",
       "    <tr>\n",
       "      <th>1811</th>\n",
       "      <td>2017-04-07</td>\n",
       "      <td>1190.72</td>\n",
       "      <td>1202.00</td>\n",
       "      <td>1176.00</td>\n",
       "      <td>1190.66</td>\n",
       "      <td>92291084.79</td>\n",
       "      <td>499635929816</td>\n",
       "      <td>4023599.960</td>\n",
       "      <td>S7</td>\n",
       "      <td>4.73</td>\n",
       "      <td>479.95</td>\n",
       "      <td>0.9</td>\n",
       "      <td>S9</td>\n",
       "      <td>13.5</td>\n",
       "      <td>2280.0</td>\n",
       "      <td>0.3528</td>\n",
       "      <td>53.323320</td>\n",
       "      <td>29.18000</td>\n",
       "      <td>80.054095</td>\n",
       "      <td>20.1193</td>\n",
       "    </tr>\n",
       "    <tr>\n",
       "      <th>1812</th>\n",
       "      <td>2017-04-08</td>\n",
       "      <td>1190.66</td>\n",
       "      <td>1197.30</td>\n",
       "      <td>1166.66</td>\n",
       "      <td>1184.03</td>\n",
       "      <td>31335396.15</td>\n",
       "      <td>499635929816</td>\n",
       "      <td>4023599.960</td>\n",
       "      <td>S7</td>\n",
       "      <td>4.73</td>\n",
       "      <td>479.95</td>\n",
       "      <td>0.9</td>\n",
       "      <td>S9</td>\n",
       "      <td>13.5</td>\n",
       "      <td>2280.0</td>\n",
       "      <td>0.3528</td>\n",
       "      <td>53.323320</td>\n",
       "      <td>26.54938</td>\n",
       "      <td>82.84973</td>\n",
       "      <td>18.5766</td>\n",
       "    </tr>\n",
       "    <tr>\n",
       "      <th>1813</th>\n",
       "      <td>2017-04-09</td>\n",
       "      <td>1184.05</td>\n",
       "      <td>1216.87</td>\n",
       "      <td>1173.98</td>\n",
       "      <td>1206.20</td>\n",
       "      <td>31335396.15</td>\n",
       "      <td>499635929816</td>\n",
       "      <td>3949088.849</td>\n",
       "      <td>S7</td>\n",
       "      <td>4.73</td>\n",
       "      <td>479.95</td>\n",
       "      <td>0.9</td>\n",
       "      <td>S9</td>\n",
       "      <td>13.5</td>\n",
       "      <td>2280.0</td>\n",
       "      <td>0.3528</td>\n",
       "      <td>53.323320</td>\n",
       "      <td>24.81688</td>\n",
       "      <td>65.32642</td>\n",
       "      <td>20.0328</td>\n",
       "    </tr>\n",
       "    <tr>\n",
       "      <th>1814</th>\n",
       "      <td>2017-04-10</td>\n",
       "      <td>1205.20</td>\n",
       "      <td>1219.71</td>\n",
       "      <td>1195.00</td>\n",
       "      <td>1209.25</td>\n",
       "      <td>41204040.55</td>\n",
       "      <td>499635929816</td>\n",
       "      <td>3949088.849</td>\n",
       "      <td>S7</td>\n",
       "      <td>4.73</td>\n",
       "      <td>479.95</td>\n",
       "      <td>0.9</td>\n",
       "      <td>S9</td>\n",
       "      <td>13.5</td>\n",
       "      <td>2280.0</td>\n",
       "      <td>0.3528</td>\n",
       "      <td>49.019500</td>\n",
       "      <td>27.46062</td>\n",
       "      <td>84.36</td>\n",
       "      <td>19.0640</td>\n",
       "    </tr>\n",
       "    <tr>\n",
       "      <th>1815</th>\n",
       "      <td>2017-04-11</td>\n",
       "      <td>1209.99</td>\n",
       "      <td>1229.00</td>\n",
       "      <td>1198.02</td>\n",
       "      <td>1218.99</td>\n",
       "      <td>41204040.55</td>\n",
       "      <td>499635929816</td>\n",
       "      <td>4147785.144</td>\n",
       "      <td>S7</td>\n",
       "      <td>4.73</td>\n",
       "      <td>479.95</td>\n",
       "      <td>0.9</td>\n",
       "      <td>S9</td>\n",
       "      <td>13.5</td>\n",
       "      <td>2280.0</td>\n",
       "      <td>0.3528</td>\n",
       "      <td>48.503392</td>\n",
       "      <td>21.16875</td>\n",
       "      <td>101.15852</td>\n",
       "      <td>18.5929</td>\n",
       "    </tr>\n",
       "    <tr>\n",
       "      <th>1816</th>\n",
       "      <td>2017-04-12</td>\n",
       "      <td>1218.99</td>\n",
       "      <td>1224.57</td>\n",
       "      <td>1208.00</td>\n",
       "      <td>1212.17</td>\n",
       "      <td>41882984.89</td>\n",
       "      <td>499635929816</td>\n",
       "      <td>4147785.144</td>\n",
       "      <td>S7</td>\n",
       "      <td>4.73</td>\n",
       "      <td>479.95</td>\n",
       "      <td>0.9</td>\n",
       "      <td>S9</td>\n",
       "      <td>13.5</td>\n",
       "      <td>2280.0</td>\n",
       "      <td>0.3528</td>\n",
       "      <td>51.405800</td>\n",
       "      <td>21.87313</td>\n",
       "      <td>93.04496</td>\n",
       "      <td>19.2140</td>\n",
       "    </tr>\n",
       "    <tr>\n",
       "      <th>1817</th>\n",
       "      <td>2017-04-13</td>\n",
       "      <td>1212.16</td>\n",
       "      <td>1219.45</td>\n",
       "      <td>1141.00</td>\n",
       "      <td>1172.91</td>\n",
       "      <td>41882984.89</td>\n",
       "      <td>517807877352</td>\n",
       "      <td>3287972.007</td>\n",
       "      <td>S7</td>\n",
       "      <td>4.73</td>\n",
       "      <td>479.95</td>\n",
       "      <td>0.9</td>\n",
       "      <td>S9</td>\n",
       "      <td>13.5</td>\n",
       "      <td>2280.0</td>\n",
       "      <td>0.3528</td>\n",
       "      <td>48.769500</td>\n",
       "      <td>24.88750</td>\n",
       "      <td>87.164273</td>\n",
       "      <td>20.3815</td>\n",
       "    </tr>\n",
       "    <tr>\n",
       "      <th>1818</th>\n",
       "      <td>2017-04-14</td>\n",
       "      <td>1172.56</td>\n",
       "      <td>1193.00</td>\n",
       "      <td>1142.00</td>\n",
       "      <td>1170.34</td>\n",
       "      <td>43219939.69</td>\n",
       "      <td>517807877352</td>\n",
       "      <td>3287972.007</td>\n",
       "      <td>S7</td>\n",
       "      <td>4.73</td>\n",
       "      <td>479.95</td>\n",
       "      <td>0.9</td>\n",
       "      <td>S9</td>\n",
       "      <td>13.5</td>\n",
       "      <td>2280.0</td>\n",
       "      <td>0.3528</td>\n",
       "      <td>53.456418</td>\n",
       "      <td>25.52687</td>\n",
       "      <td>79.08954</td>\n",
       "      <td>19.1186</td>\n",
       "    </tr>\n",
       "    <tr>\n",
       "      <th>1819</th>\n",
       "      <td>2017-04-15</td>\n",
       "      <td>1169.53</td>\n",
       "      <td>1192.50</td>\n",
       "      <td>1165.00</td>\n",
       "      <td>1173.45</td>\n",
       "      <td>43219939.69</td>\n",
       "      <td>517807877352</td>\n",
       "      <td>3909321.047</td>\n",
       "      <td>S7</td>\n",
       "      <td>4.73</td>\n",
       "      <td>479.95</td>\n",
       "      <td>0.9</td>\n",
       "      <td>S9</td>\n",
       "      <td>13.5</td>\n",
       "      <td>2280.0</td>\n",
       "      <td>0.3528</td>\n",
       "      <td>53.456418</td>\n",
       "      <td>15.32687</td>\n",
       "      <td>88.36524</td>\n",
       "      <td>17.9908</td>\n",
       "    </tr>\n",
       "    <tr>\n",
       "      <th>1820</th>\n",
       "      <td>2017-04-16</td>\n",
       "      <td>1171.00</td>\n",
       "      <td>1179.30</td>\n",
       "      <td>1150.00</td>\n",
       "      <td>1162.31</td>\n",
       "      <td>19916836.26</td>\n",
       "      <td>517807877352</td>\n",
       "      <td>3909321.047</td>\n",
       "      <td>S7</td>\n",
       "      <td>4.73</td>\n",
       "      <td>479.95</td>\n",
       "      <td>0.9</td>\n",
       "      <td>S9</td>\n",
       "      <td>13.5</td>\n",
       "      <td>2280.0</td>\n",
       "      <td>0.3528</td>\n",
       "      <td>53.456418</td>\n",
       "      <td>12.60375</td>\n",
       "      <td>73.970868</td>\n",
       "      <td>20.4321</td>\n",
       "    </tr>\n",
       "    <tr>\n",
       "      <th>1821</th>\n",
       "      <td>2017-04-17</td>\n",
       "      <td>1162.31</td>\n",
       "      <td>1192.50</td>\n",
       "      <td>1161.00</td>\n",
       "      <td>1176.54</td>\n",
       "      <td>19916836.26</td>\n",
       "      <td>517807877352</td>\n",
       "      <td>3572756.984</td>\n",
       "      <td>S7</td>\n",
       "      <td>4.73</td>\n",
       "      <td>479.95</td>\n",
       "      <td>0.9</td>\n",
       "      <td>S9</td>\n",
       "      <td>13.5</td>\n",
       "      <td>2280.0</td>\n",
       "      <td>0.3528</td>\n",
       "      <td>53.622909</td>\n",
       "      <td>23.73313</td>\n",
       "      <td>80.176434</td>\n",
       "      <td>16.5513</td>\n",
       "    </tr>\n",
       "  </tbody>\n",
       "</table>\n",
       "</div>"
      ],
      "text/plain": [
       "            Date     Open     High      Low     Last          Vol  \\\n",
       "1800  2017-03-27   959.08  1043.00   952.95  1039.92  79080569.24   \n",
       "1801  2017-03-28  1039.09  1068.26  1014.90  1043.99  79080569.24   \n",
       "1802  2017-03-29  1042.83  1059.43  1008.16  1035.96  61677763.73   \n",
       "1803  2017-03-30  1037.29  1050.17  1017.14  1033.70  61677763.73   \n",
       "1804  2017-03-31  1033.79  1081.00  1031.43  1070.31  75018988.17   \n",
       "1805  2017-04-01  1071.34  1097.00  1061.64  1083.94  75018988.17   \n",
       "1806  2017-04-02  1083.95  1100.00  1066.49  1078.01  59295644.26   \n",
       "1807  2017-04-03  1076.59  1152.00  1076.19  1144.77  59295644.26   \n",
       "1808  2017-04-04  1146.42  1162.93  1118.85  1143.00  67370298.18   \n",
       "1809  2017-04-05  1143.00  1145.00  1111.00  1134.58  67370298.18   \n",
       "1810  2017-04-06  1134.86  1201.37  1134.36  1190.85  92291084.79   \n",
       "1811  2017-04-07  1190.72  1202.00  1176.00  1190.66  92291084.79   \n",
       "1812  2017-04-08  1190.66  1197.30  1166.66  1184.03  31335396.15   \n",
       "1813  2017-04-09  1184.05  1216.87  1173.98  1206.20  31335396.15   \n",
       "1814  2017-04-10  1205.20  1219.71  1195.00  1209.25  41204040.55   \n",
       "1815  2017-04-11  1209.99  1229.00  1198.02  1218.99  41204040.55   \n",
       "1816  2017-04-12  1218.99  1224.57  1208.00  1212.17  41882984.89   \n",
       "1817  2017-04-13  1212.16  1219.45  1141.00  1172.91  41882984.89   \n",
       "1818  2017-04-14  1172.56  1193.00  1142.00  1170.34  43219939.69   \n",
       "1819  2017-04-15  1169.53  1192.50  1165.00  1173.45  43219939.69   \n",
       "1820  2017-04-16  1171.00  1179.30  1150.00  1162.31  19916836.26   \n",
       "1821  2017-04-17  1162.31  1192.50  1161.00  1176.54  19916836.26   \n",
       "\n",
       "              Diff         Hash  LS  LS_TH_S    LS_P  LS_MWh_TH  HS  HS_TH_S  \\\n",
       "1800  475705205061  3925474.045  S7     4.73  479.95        0.9  S9     13.5   \n",
       "1801  475705205061  3665352.271  S7     4.73  479.95        0.9  S9     13.5   \n",
       "1802  475705205061  3665352.271  S7     4.73  479.95        0.9  S9     13.5   \n",
       "1803  482855238677  4073274.033  S7     4.73  479.95        0.9  S9     13.5   \n",
       "1804  482855238677  4073274.033  S7     4.73  479.95        0.9  S9     13.5   \n",
       "1805  499635929816  3278488.856  S7     4.73  479.95        0.9  S9     13.5   \n",
       "1806  499635929816  3278488.856  S7     4.73  479.95        0.9  S9     13.5   \n",
       "1807  499635929816  4371318.475  S7     4.73  479.95        0.9  S9     13.5   \n",
       "1808  499635929816  4371318.475  S7     4.73  479.95        0.9  S9     13.5   \n",
       "1809  499635929816  4023599.960  S7     4.73  479.95        0.9  S9     13.5   \n",
       "1810  499635929816  4023599.960  S7     4.73  479.95        0.9  S9     13.5   \n",
       "1811  499635929816  4023599.960  S7     4.73  479.95        0.9  S9     13.5   \n",
       "1812  499635929816  4023599.960  S7     4.73  479.95        0.9  S9     13.5   \n",
       "1813  499635929816  3949088.849  S7     4.73  479.95        0.9  S9     13.5   \n",
       "1814  499635929816  3949088.849  S7     4.73  479.95        0.9  S9     13.5   \n",
       "1815  499635929816  4147785.144  S7     4.73  479.95        0.9  S9     13.5   \n",
       "1816  499635929816  4147785.144  S7     4.73  479.95        0.9  S9     13.5   \n",
       "1817  517807877352  3287972.007  S7     4.73  479.95        0.9  S9     13.5   \n",
       "1818  517807877352  3287972.007  S7     4.73  479.95        0.9  S9     13.5   \n",
       "1819  517807877352  3909321.047  S7     4.73  479.95        0.9  S9     13.5   \n",
       "1820  517807877352  3909321.047  S7     4.73  479.95        0.9  S9     13.5   \n",
       "1821  517807877352  3572756.984  S7     4.73  479.95        0.9  S9     13.5   \n",
       "\n",
       "        HS_P  HS_MWh_TH      UK_EP     US_EP      AUS_EP    RU_EP  \n",
       "1800  2280.0     0.3528  52.346010  27.96688    75.92155  18.0333  \n",
       "1801  2280.0     0.3528  49.792000  28.59125   78.787826  17.1052  \n",
       "1802  2280.0     0.3528  47.863200  28.11250   97.531907  17.4938  \n",
       "1803  2280.0     0.3528  49.860000  29.52563     85.6444  17.3662  \n",
       "1804  2280.0     0.3528  51.283960  31.34000   75.837576  16.9233  \n",
       "1805  2280.0     0.3528  51.283960  24.64500   78.919288  17.4338  \n",
       "1806  2280.0     0.3528  51.283960  24.76937   70.070808  19.1728  \n",
       "1807  2280.0     0.3528  50.755590  29.59562   76.785302  18.9957  \n",
       "1808  2280.0     0.3528  53.176725  26.35250    83.04174  18.9614  \n",
       "1809  2280.0     0.3528  55.161600  29.02312  105.137136  18.0428  \n",
       "1810  2280.0     0.3528  55.473700  25.99813    96.10821  20.2112  \n",
       "1811  2280.0     0.3528  53.323320  29.18000   80.054095  20.1193  \n",
       "1812  2280.0     0.3528  53.323320  26.54938    82.84973  18.5766  \n",
       "1813  2280.0     0.3528  53.323320  24.81688    65.32642  20.0328  \n",
       "1814  2280.0     0.3528  49.019500  27.46062       84.36  19.0640  \n",
       "1815  2280.0     0.3528  48.503392  21.16875   101.15852  18.5929  \n",
       "1816  2280.0     0.3528  51.405800  21.87313    93.04496  19.2140  \n",
       "1817  2280.0     0.3528  48.769500  24.88750   87.164273  20.3815  \n",
       "1818  2280.0     0.3528  53.456418  25.52687    79.08954  19.1186  \n",
       "1819  2280.0     0.3528  53.456418  15.32687    88.36524  17.9908  \n",
       "1820  2280.0     0.3528  53.456418  12.60375   73.970868  20.4321  \n",
       "1821  2280.0     0.3528  53.622909  23.73313   80.176434  16.5513  "
      ]
     },
     "execution_count": 3,
     "metadata": {},
     "output_type": "execute_result"
    }
   ],
   "source": [
    "data[1800:-1]"
   ]
  },
  {
   "cell_type": "code",
   "execution_count": 4,
   "metadata": {
    "collapsed": false,
    "scrolled": true
   },
   "outputs": [],
   "source": [
    "#Index data,http://pandas.pydata.org/pandas-docs/stable/timeseries.html \n",
    "\n",
    "data['Date'] = pd.to_datetime(data['Date'])\n",
    "data.set_index('Date', inplace=True)\n",
    "\n",
    "data['Year'] = data.index.year\n",
    "data['Month'] = data.index.month\n"
   ]
  },
  {
   "cell_type": "code",
   "execution_count": 5,
   "metadata": {
    "collapsed": false
   },
   "outputs": [
    {
     "data": {
      "text/html": [
       "<div>\n",
       "<table border=\"1\" class=\"dataframe\">\n",
       "  <thead>\n",
       "    <tr style=\"text-align: right;\">\n",
       "      <th></th>\n",
       "      <th>Open</th>\n",
       "      <th>High</th>\n",
       "      <th>Low</th>\n",
       "      <th>Last</th>\n",
       "      <th>Vol</th>\n",
       "      <th>Diff</th>\n",
       "      <th>Hash</th>\n",
       "      <th>LS</th>\n",
       "      <th>LS_TH_S</th>\n",
       "      <th>LS_P</th>\n",
       "      <th>...</th>\n",
       "      <th>HS</th>\n",
       "      <th>HS_TH_S</th>\n",
       "      <th>HS_P</th>\n",
       "      <th>HS_MWh_TH</th>\n",
       "      <th>UK_EP</th>\n",
       "      <th>US_EP</th>\n",
       "      <th>AUS_EP</th>\n",
       "      <th>RU_EP</th>\n",
       "      <th>Year</th>\n",
       "      <th>Month</th>\n",
       "    </tr>\n",
       "    <tr>\n",
       "      <th>Date</th>\n",
       "      <th></th>\n",
       "      <th></th>\n",
       "      <th></th>\n",
       "      <th></th>\n",
       "      <th></th>\n",
       "      <th></th>\n",
       "      <th></th>\n",
       "      <th></th>\n",
       "      <th></th>\n",
       "      <th></th>\n",
       "      <th></th>\n",
       "      <th></th>\n",
       "      <th></th>\n",
       "      <th></th>\n",
       "      <th></th>\n",
       "      <th></th>\n",
       "      <th></th>\n",
       "      <th></th>\n",
       "      <th></th>\n",
       "      <th></th>\n",
       "      <th></th>\n",
       "    </tr>\n",
       "  </thead>\n",
       "  <tbody>\n",
       "    <tr>\n",
       "      <th>2012-04-19</th>\n",
       "      <td>5.17</td>\n",
       "      <td>5.18</td>\n",
       "      <td>5.06</td>\n",
       "      <td>5.13</td>\n",
       "      <td>288111.6243</td>\n",
       "      <td>1577913</td>\n",
       "      <td>12.236407</td>\n",
       "      <td>S0</td>\n",
       "      <td>0.09</td>\n",
       "      <td>149.5</td>\n",
       "      <td>...</td>\n",
       "      <td>S0+</td>\n",
       "      <td>0.5</td>\n",
       "      <td>1129.5</td>\n",
       "      <td>7.56</td>\n",
       "      <td>73.481478</td>\n",
       "      <td>28.19</td>\n",
       "      <td>39.0783727</td>\n",
       "      <td>30.0426</td>\n",
       "      <td>2012</td>\n",
       "      <td>4</td>\n",
       "    </tr>\n",
       "    <tr>\n",
       "      <th>2012-04-20</th>\n",
       "      <td>5.15</td>\n",
       "      <td>5.38</td>\n",
       "      <td>5.09</td>\n",
       "      <td>5.38</td>\n",
       "      <td>288111.6243</td>\n",
       "      <td>1577913</td>\n",
       "      <td>12.236407</td>\n",
       "      <td>S0</td>\n",
       "      <td>0.09</td>\n",
       "      <td>149.5</td>\n",
       "      <td>...</td>\n",
       "      <td>S0+</td>\n",
       "      <td>0.5</td>\n",
       "      <td>1129.5</td>\n",
       "      <td>7.56</td>\n",
       "      <td>73.041720</td>\n",
       "      <td>28.45</td>\n",
       "      <td>45.4834287</td>\n",
       "      <td>29.5864</td>\n",
       "      <td>2012</td>\n",
       "      <td>4</td>\n",
       "    </tr>\n",
       "    <tr>\n",
       "      <th>2012-04-21</th>\n",
       "      <td>5.40</td>\n",
       "      <td>5.43</td>\n",
       "      <td>5.19</td>\n",
       "      <td>5.24</td>\n",
       "      <td>336827.7813</td>\n",
       "      <td>1577913</td>\n",
       "      <td>11.530460</td>\n",
       "      <td>S0</td>\n",
       "      <td>0.09</td>\n",
       "      <td>149.5</td>\n",
       "      <td>...</td>\n",
       "      <td>S0+</td>\n",
       "      <td>0.5</td>\n",
       "      <td>1129.5</td>\n",
       "      <td>7.56</td>\n",
       "      <td>73.041720</td>\n",
       "      <td>26.10</td>\n",
       "      <td>36.9784395</td>\n",
       "      <td>30.5039</td>\n",
       "      <td>2012</td>\n",
       "      <td>4</td>\n",
       "    </tr>\n",
       "    <tr>\n",
       "      <th>2012-04-22</th>\n",
       "      <td>5.24</td>\n",
       "      <td>5.25</td>\n",
       "      <td>5.17</td>\n",
       "      <td>5.17</td>\n",
       "      <td>336827.7813</td>\n",
       "      <td>1577913</td>\n",
       "      <td>11.530460</td>\n",
       "      <td>S0</td>\n",
       "      <td>0.09</td>\n",
       "      <td>149.5</td>\n",
       "      <td>...</td>\n",
       "      <td>S0+</td>\n",
       "      <td>0.5</td>\n",
       "      <td>1129.5</td>\n",
       "      <td>7.56</td>\n",
       "      <td>73.041720</td>\n",
       "      <td>27.02</td>\n",
       "      <td>30.5841321</td>\n",
       "      <td>25.7296</td>\n",
       "      <td>2012</td>\n",
       "      <td>4</td>\n",
       "    </tr>\n",
       "    <tr>\n",
       "      <th>2012-04-23</th>\n",
       "      <td>5.20</td>\n",
       "      <td>5.25</td>\n",
       "      <td>5.00</td>\n",
       "      <td>5.00</td>\n",
       "      <td>279236.4544</td>\n",
       "      <td>1577913</td>\n",
       "      <td>11.608899</td>\n",
       "      <td>S0</td>\n",
       "      <td>0.09</td>\n",
       "      <td>149.5</td>\n",
       "      <td>...</td>\n",
       "      <td>S0+</td>\n",
       "      <td>0.5</td>\n",
       "      <td>1129.5</td>\n",
       "      <td>7.56</td>\n",
       "      <td>74.744010</td>\n",
       "      <td>32.00</td>\n",
       "      <td>38.192742</td>\n",
       "      <td>30.6223</td>\n",
       "      <td>2012</td>\n",
       "      <td>4</td>\n",
       "    </tr>\n",
       "  </tbody>\n",
       "</table>\n",
       "<p>5 rows × 21 columns</p>\n",
       "</div>"
      ],
      "text/plain": [
       "            Open  High   Low  Last          Vol     Diff       Hash  LS  \\\n",
       "Date                                                                      \n",
       "2012-04-19  5.17  5.18  5.06  5.13  288111.6243  1577913  12.236407  S0   \n",
       "2012-04-20  5.15  5.38  5.09  5.38  288111.6243  1577913  12.236407  S0   \n",
       "2012-04-21  5.40  5.43  5.19  5.24  336827.7813  1577913  11.530460  S0   \n",
       "2012-04-22  5.24  5.25  5.17  5.17  336827.7813  1577913  11.530460  S0   \n",
       "2012-04-23  5.20  5.25  5.00  5.00  279236.4544  1577913  11.608899  S0   \n",
       "\n",
       "            LS_TH_S   LS_P  ...     HS HS_TH_S    HS_P  HS_MWh_TH      UK_EP  \\\n",
       "Date                        ...                                                \n",
       "2012-04-19     0.09  149.5  ...    S0+     0.5  1129.5       7.56  73.481478   \n",
       "2012-04-20     0.09  149.5  ...    S0+     0.5  1129.5       7.56  73.041720   \n",
       "2012-04-21     0.09  149.5  ...    S0+     0.5  1129.5       7.56  73.041720   \n",
       "2012-04-22     0.09  149.5  ...    S0+     0.5  1129.5       7.56  73.041720   \n",
       "2012-04-23     0.09  149.5  ...    S0+     0.5  1129.5       7.56  74.744010   \n",
       "\n",
       "            US_EP      AUS_EP    RU_EP  Year  Month  \n",
       "Date                                                 \n",
       "2012-04-19  28.19  39.0783727  30.0426  2012      4  \n",
       "2012-04-20  28.45  45.4834287  29.5864  2012      4  \n",
       "2012-04-21  26.10  36.9784395  30.5039  2012      4  \n",
       "2012-04-22  27.02  30.5841321  25.7296  2012      4  \n",
       "2012-04-23  32.00   38.192742  30.6223  2012      4  \n",
       "\n",
       "[5 rows x 21 columns]"
      ]
     },
     "execution_count": 5,
     "metadata": {},
     "output_type": "execute_result"
    }
   ],
   "source": [
    "data.head()"
   ]
  },
  {
   "cell_type": "code",
   "execution_count": 6,
   "metadata": {
    "collapsed": false,
    "scrolled": true
   },
   "outputs": [
    {
     "data": {
      "text/plain": [
       "<matplotlib.axes._subplots.AxesSubplot at 0x8cc8208>"
      ]
     },
     "execution_count": 6,
     "metadata": {},
     "output_type": "execute_result"
    },
    {
     "data": {
      "image/png": "[encoded data removed]",
      "text/plain": [
       "<matplotlib.figure.Figure at 0xc2aebe0>"
      ]
     },
     "metadata": {},
     "output_type": "display_data"
    }
   ],
   "source": [
    "data.Last.plot()"
   ]
  },
  {
   "cell_type": "code",
   "execution_count": 7,
   "metadata": {
    "collapsed": false
   },
   "outputs": [
    {
     "data": {
      "text/plain": [
       "<matplotlib.axes._subplots.AxesSubplot at 0xc4835f8>"
      ]
     },
     "execution_count": 7,
     "metadata": {},
     "output_type": "execute_result"
    },
    {
     "data": {
      "image/png": "[encoded data removed]",
      "text/plain": [
       "<matplotlib.figure.Figure at 0xc4d9320>"
      ]
     },
     "metadata": {},
     "output_type": "display_data"
    }
   ],
   "source": [
    "data.Diff.plot()"
   ]
  },
  {
   "cell_type": "code",
   "execution_count": 8,
   "metadata": {
    "collapsed": false
   },
   "outputs": [
    {
     "data": {
      "text/plain": [
       "<matplotlib.axes._subplots.AxesSubplot at 0xc889fd0>"
      ]
     },
     "execution_count": 8,
     "metadata": {},
     "output_type": "execute_result"
    },
    {
     "data": {
      "image/png": "[encoded data removed]",
      "text/plain": [
       "<matplotlib.figure.Figure at 0xc4f9e80>"
      ]
     },
     "metadata": {},
     "output_type": "display_data"
    }
   ],
   "source": [
    "data.Hash.plot()"
   ]
  },
  {
   "cell_type": "code",
   "execution_count": 9,
   "metadata": {
    "collapsed": false
   },
   "outputs": [],
   "source": [
    "# Trend in 2016 only \n",
    "data_2016 = data[data.Year == 2016]"
   ]
  },
  {
   "cell_type": "code",
   "execution_count": 10,
   "metadata": {
    "collapsed": false
   },
   "outputs": [
    {
     "data": {
      "text/plain": [
       "<matplotlib.axes._subplots.AxesSubplot at 0xc978c50>"
      ]
     },
     "execution_count": 10,
     "metadata": {},
     "output_type": "execute_result"
    },
    {
     "data": {
      "image/png": "[encoded data removed]",
      "text/plain": [
       "<matplotlib.figure.Figure at 0xcc25dd8>"
      ]
     },
     "metadata": {},
     "output_type": "display_data"
    }
   ],
   "source": [
    "data_2016.Last.plot()"
   ]
  },
  {
   "cell_type": "code",
   "execution_count": 11,
   "metadata": {
    "collapsed": false
   },
   "outputs": [
    {
     "data": {
      "text/plain": [
       "0.99736776309179975"
      ]
     },
     "execution_count": 11,
     "metadata": {},
     "output_type": "execute_result"
    }
   ],
   "source": [
    "# Autocorrelation (1 day and 365 day)\n",
    "data['Last'].resample('D').mean().autocorr(lag=1)"
   ]
  },
  {
   "cell_type": "code",
   "execution_count": 12,
   "metadata": {
    "collapsed": false
   },
   "outputs": [
    {
     "data": {
      "text/plain": [
       "-0.026137235760321745"
      ]
     },
     "execution_count": 12,
     "metadata": {},
     "output_type": "execute_result"
    }
   ],
   "source": [
    "data['Last'].resample('D').mean().autocorr(lag=365)"
   ]
  },
  {
   "cell_type": "code",
   "execution_count": 13,
   "metadata": {
    "collapsed": false
   },
   "outputs": [
    {
     "data": {
      "text/html": [
       "<div>\n",
       "<table border=\"1\" class=\"dataframe\">\n",
       "  <thead>\n",
       "    <tr>\n",
       "      <th></th>\n",
       "      <th colspan=\"2\" halign=\"left\">Last</th>\n",
       "    </tr>\n",
       "    <tr>\n",
       "      <th></th>\n",
       "      <th>median</th>\n",
       "      <th>mean</th>\n",
       "    </tr>\n",
       "    <tr>\n",
       "      <th>Date</th>\n",
       "      <th></th>\n",
       "      <th></th>\n",
       "    </tr>\n",
       "  </thead>\n",
       "  <tbody>\n",
       "    <tr>\n",
       "      <th>2012-04-30</th>\n",
       "      <td>5.060</td>\n",
       "      <td>5.078333</td>\n",
       "    </tr>\n",
       "    <tr>\n",
       "      <th>2012-05-31</th>\n",
       "      <td>5.060</td>\n",
       "      <td>5.039677</td>\n",
       "    </tr>\n",
       "    <tr>\n",
       "      <th>2012-06-30</th>\n",
       "      <td>6.125</td>\n",
       "      <td>5.989667</td>\n",
       "    </tr>\n",
       "    <tr>\n",
       "      <th>2012-07-31</th>\n",
       "      <td>8.300</td>\n",
       "      <td>7.859677</td>\n",
       "    </tr>\n",
       "    <tr>\n",
       "      <th>2012-08-31</th>\n",
       "      <td>10.780</td>\n",
       "      <td>10.877097</td>\n",
       "    </tr>\n",
       "  </tbody>\n",
       "</table>\n",
       "</div>"
      ],
      "text/plain": [
       "              Last           \n",
       "            median       mean\n",
       "Date                         \n",
       "2012-04-30   5.060   5.078333\n",
       "2012-05-31   5.060   5.039677\n",
       "2012-06-30   6.125   5.989667\n",
       "2012-07-31   8.300   7.859677\n",
       "2012-08-31  10.780  10.877097"
      ]
     },
     "execution_count": 13,
     "metadata": {},
     "output_type": "execute_result"
    }
   ],
   "source": [
    "#Resample, calculate median and mean, group by month \n",
    "data[['Last']].resample('M').apply(['median','mean']).head()"
   ]
  },
  {
   "cell_type": "code",
   "execution_count": 14,
   "metadata": {
    "collapsed": false
   },
   "outputs": [
    {
     "data": {
      "text/html": [
       "<div>\n",
       "<table border=\"1\" class=\"dataframe\">\n",
       "  <thead>\n",
       "    <tr style=\"text-align: right;\">\n",
       "      <th></th>\n",
       "      <th>Last</th>\n",
       "    </tr>\n",
       "    <tr>\n",
       "      <th>Date</th>\n",
       "      <th></th>\n",
       "    </tr>\n",
       "  </thead>\n",
       "  <tbody>\n",
       "    <tr>\n",
       "      <th>2012-04-19</th>\n",
       "      <td>NaN</td>\n",
       "    </tr>\n",
       "    <tr>\n",
       "      <th>2012-04-20</th>\n",
       "      <td>NaN</td>\n",
       "    </tr>\n",
       "    <tr>\n",
       "      <th>2012-04-21</th>\n",
       "      <td>NaN</td>\n",
       "    </tr>\n",
       "    <tr>\n",
       "      <th>2012-04-22</th>\n",
       "      <td>5.162857</td>\n",
       "    </tr>\n",
       "    <tr>\n",
       "      <th>2012-04-23</th>\n",
       "      <td>5.135714</td>\n",
       "    </tr>\n",
       "    <tr>\n",
       "      <th>2012-04-24</th>\n",
       "      <td>5.087143</td>\n",
       "    </tr>\n",
       "    <tr>\n",
       "      <th>2012-04-25</th>\n",
       "      <td>5.040000</td>\n",
       "    </tr>\n",
       "    <tr>\n",
       "      <th>2012-04-26</th>\n",
       "      <td>5.002857</td>\n",
       "    </tr>\n",
       "    <tr>\n",
       "      <th>2012-04-27</th>\n",
       "      <td>5.002857</td>\n",
       "    </tr>\n",
       "    <tr>\n",
       "      <th>2012-04-28</th>\n",
       "      <td>4.987143</td>\n",
       "    </tr>\n",
       "  </tbody>\n",
       "</table>\n",
       "</div>"
      ],
      "text/plain": [
       "                Last\n",
       "Date                \n",
       "2012-04-19       NaN\n",
       "2012-04-20       NaN\n",
       "2012-04-21       NaN\n",
       "2012-04-22  5.162857\n",
       "2012-04-23  5.135714\n",
       "2012-04-24  5.087143\n",
       "2012-04-25  5.040000\n",
       "2012-04-26  5.002857\n",
       "2012-04-27  5.002857\n",
       "2012-04-28  4.987143"
      ]
     },
     "execution_count": 14,
     "metadata": {},
     "output_type": "execute_result"
    }
   ],
   "source": [
    "#Rolling average 7 days\n",
    "data[['Last']].resample('D').mean().rolling(window=7, center=True).mean().head(10)\n",
    "                                                                            "
   ]
  },
  {
   "cell_type": "code",
   "execution_count": 15,
   "metadata": {
    "collapsed": false
   },
   "outputs": [
    {
     "data": {
      "text/plain": [
       "<matplotlib.axes._subplots.AxesSubplot at 0xcfaeda0>"
      ]
     },
     "execution_count": 15,
     "metadata": {},
     "output_type": "execute_result"
    },
    {
     "data": {
      "image/png": "[encoded data removed]",
      "text/plain": [
       "<matplotlib.figure.Figure at 0xcfdf9b0>"
      ]
     },
     "metadata": {},
     "output_type": "display_data"
    }
   ],
   "source": [
    "#Plot rolling average, 14 days, smooth random changes, remove outliers, remove large trend\n",
    "data[['Last']].resample('D').mean().rolling(window=14, center=True).mean().plot()"
   ]
  },
  {
   "cell_type": "code",
   "execution_count": 16,
   "metadata": {
    "collapsed": false
   },
   "outputs": [
    {
     "data": {
      "text/plain": [
       "Date\n",
       "2012-04-19     NaN\n",
       "2012-04-20    0.25\n",
       "2012-04-21   -0.14\n",
       "2012-04-22   -0.07\n",
       "2012-04-23   -0.17\n",
       "2012-04-24    0.08\n",
       "2012-04-25    0.06\n",
       "2012-04-26   -0.20\n",
       "2012-04-27    0.10\n",
       "2012-04-28   -0.13\n",
       "Name: Last, dtype: float64"
      ]
     },
     "execution_count": 16,
     "metadata": {},
     "output_type": "execute_result"
    }
   ],
   "source": [
    "#diff function - window n (??งง)\n",
    "data['Last'].diff(periods=1).head(10)"
   ]
  },
  {
   "cell_type": "code",
   "execution_count": 17,
   "metadata": {
    "collapsed": false
   },
   "outputs": [
    {
     "data": {
      "text/html": [
       "<div>\n",
       "<table border=\"1\" class=\"dataframe\">\n",
       "  <thead>\n",
       "    <tr style=\"text-align: right;\">\n",
       "      <th></th>\n",
       "      <th>Last</th>\n",
       "    </tr>\n",
       "    <tr>\n",
       "      <th>Date</th>\n",
       "      <th></th>\n",
       "    </tr>\n",
       "  </thead>\n",
       "  <tbody>\n",
       "    <tr>\n",
       "      <th>2012-04-19</th>\n",
       "      <td>5.130</td>\n",
       "    </tr>\n",
       "    <tr>\n",
       "      <th>2012-04-20</th>\n",
       "      <td>5.255</td>\n",
       "    </tr>\n",
       "    <tr>\n",
       "      <th>2012-04-21</th>\n",
       "      <td>5.250</td>\n",
       "    </tr>\n",
       "    <tr>\n",
       "      <th>2012-04-22</th>\n",
       "      <td>5.230</td>\n",
       "    </tr>\n",
       "    <tr>\n",
       "      <th>2012-04-23</th>\n",
       "      <td>5.184</td>\n",
       "    </tr>\n",
       "  </tbody>\n",
       "</table>\n",
       "</div>"
      ],
      "text/plain": [
       "             Last\n",
       "Date             \n",
       "2012-04-19  5.130\n",
       "2012-04-20  5.255\n",
       "2012-04-21  5.250\n",
       "2012-04-22  5.230\n",
       "2012-04-23  5.184"
      ]
     },
     "execution_count": 17,
     "metadata": {},
     "output_type": "execute_result"
    }
   ],
   "source": [
    "#expand function\n",
    "data[['Last']].resample('D').mean().expanding().mean().head()"
   ]
  },
  {
   "cell_type": "code",
   "execution_count": 18,
   "metadata": {
    "collapsed": false
   },
   "outputs": [
    {
     "data": {
      "text/plain": [
       "<matplotlib.axes._subplots.AxesSubplot at 0xcfd50b8>"
      ]
     },
     "execution_count": 18,
     "metadata": {},
     "output_type": "execute_result"
    },
    {
     "data": {
      "image/png": "[encoded data removed]",
      "text/plain": [
       "<matplotlib.figure.Figure at 0xd788630>"
      ]
     },
     "metadata": {},
     "output_type": "display_data"
    }
   ],
   "source": [
    "#plot 15 days rolling mean\n",
    "data[['Last']].resample('D').mean().rolling(window=15).mean().plot()"
   ]
  },
  {
   "cell_type": "code",
   "execution_count": 19,
   "metadata": {
    "collapsed": false
   },
   "outputs": [
    {
     "data": {
      "text/html": [
       "<div>\n",
       "<table border=\"1\" class=\"dataframe\">\n",
       "  <thead>\n",
       "    <tr style=\"text-align: right;\">\n",
       "      <th></th>\n",
       "      <th>Last</th>\n",
       "      <th>DiffVsLastWeek</th>\n",
       "    </tr>\n",
       "    <tr>\n",
       "      <th>Date</th>\n",
       "      <th></th>\n",
       "      <th></th>\n",
       "    </tr>\n",
       "  </thead>\n",
       "  <tbody>\n",
       "    <tr>\n",
       "      <th>2013-12-07</th>\n",
       "      <td>693.30</td>\n",
       "      <td>-426.22</td>\n",
       "    </tr>\n",
       "    <tr>\n",
       "      <th>2013-12-18</th>\n",
       "      <td>519.86</td>\n",
       "      <td>-359.18</td>\n",
       "    </tr>\n",
       "    <tr>\n",
       "      <th>2017-01-11</th>\n",
       "      <td>778.62</td>\n",
       "      <td>-336.30</td>\n",
       "    </tr>\n",
       "    <tr>\n",
       "      <th>2013-12-06</th>\n",
       "      <td>814.91</td>\n",
       "      <td>-317.08</td>\n",
       "    </tr>\n",
       "    <tr>\n",
       "      <th>2013-12-17</th>\n",
       "      <td>673.62</td>\n",
       "      <td>-305.61</td>\n",
       "    </tr>\n",
       "    <tr>\n",
       "      <th>2013-12-20</th>\n",
       "      <td>610.00</td>\n",
       "      <td>-275.98</td>\n",
       "    </tr>\n",
       "    <tr>\n",
       "      <th>2013-12-21</th>\n",
       "      <td>595.03</td>\n",
       "      <td>-255.75</td>\n",
       "    </tr>\n",
       "    <tr>\n",
       "      <th>2013-12-11</th>\n",
       "      <td>879.04</td>\n",
       "      <td>-252.97</td>\n",
       "    </tr>\n",
       "    <tr>\n",
       "      <th>2013-12-22</th>\n",
       "      <td>612.66</td>\n",
       "      <td>-249.34</td>\n",
       "    </tr>\n",
       "    <tr>\n",
       "      <th>2017-03-22</th>\n",
       "      <td>1037.56</td>\n",
       "      <td>-219.76</td>\n",
       "    </tr>\n",
       "    <tr>\n",
       "      <th>2013-12-16</th>\n",
       "      <td>691.00</td>\n",
       "      <td>-208.90</td>\n",
       "    </tr>\n",
       "    <tr>\n",
       "      <th>2017-03-19</th>\n",
       "      <td>1017.97</td>\n",
       "      <td>-208.65</td>\n",
       "    </tr>\n",
       "    <tr>\n",
       "      <th>2017-03-18</th>\n",
       "      <td>969.40</td>\n",
       "      <td>-207.15</td>\n",
       "    </tr>\n",
       "    <tr>\n",
       "      <th>2017-03-20</th>\n",
       "      <td>1035.96</td>\n",
       "      <td>-206.50</td>\n",
       "    </tr>\n",
       "    <tr>\n",
       "      <th>2017-01-12</th>\n",
       "      <td>807.47</td>\n",
       "      <td>-197.27</td>\n",
       "    </tr>\n",
       "  </tbody>\n",
       "</table>\n",
       "</div>"
      ],
      "text/plain": [
       "               Last  DiffVsLastWeek\n",
       "Date                               \n",
       "2013-12-07   693.30         -426.22\n",
       "2013-12-18   519.86         -359.18\n",
       "2017-01-11   778.62         -336.30\n",
       "2013-12-06   814.91         -317.08\n",
       "2013-12-17   673.62         -305.61\n",
       "2013-12-20   610.00         -275.98\n",
       "2013-12-21   595.03         -255.75\n",
       "2013-12-11   879.04         -252.97\n",
       "2013-12-22   612.66         -249.34\n",
       "2017-03-22  1037.56         -219.76\n",
       "2013-12-16   691.00         -208.90\n",
       "2017-03-19  1017.97         -208.65\n",
       "2017-03-18   969.40         -207.15\n",
       "2017-03-20  1035.96         -206.50\n",
       "2017-01-12   807.47         -197.27"
      ]
     },
     "execution_count": 19,
     "metadata": {},
     "output_type": "execute_result"
    }
   ],
   "source": [
    "# Identify the date with largest drop in price from the same date in the previous month\n",
    "\n",
    "average_daily_last = data[['Last']].resample('D').mean()\n",
    "average_daily_last['DiffVsLastWeek'] = average_daily_last[['Last']].diff(periods=7)\n",
    "average_daily_last.sort_values(by='DiffVsLastWeek').head(15)                                                    "
   ]
  },
  {
   "cell_type": "code",
   "execution_count": 20,
   "metadata": {
    "collapsed": false
   },
   "outputs": [
    {
     "name": "stdout",
     "output_type": "stream",
     "text": [
      "Correlation with last day: 0.988093713769\n",
      "Correlation with last day: 0.932231852951\n",
      "Correlation with last day: -0.0163816400346\n"
     ]
    }
   ],
   "source": [
    "#price correlation wiht pior week, a week earlier, 4 weeks earlier and 1 year earlier\n",
    "average_weekly_last = data[['Last']].resample('W').mean()\n",
    "\n",
    "print('Correlation with last day: {}'.format(average_weekly_last['Last'].autocorr(lag=1)))\n",
    "print('Correlation with last day: {}'.format(average_weekly_last['Last'].autocorr(lag=4)))\n",
    "print('Correlation with last day: {}'.format(average_weekly_last['Last'].autocorr(lag=52)))"
   ]
  },
  {
   "cell_type": "code",
   "execution_count": 21,
   "metadata": {
    "collapsed": false
   },
   "outputs": [
    {
     "data": {
      "text/plain": [
       "<matplotlib.axes._subplots.AxesSubplot at 0xdcbc128>"
      ]
     },
     "execution_count": 21,
     "metadata": {},
     "output_type": "execute_result"
    },
    {
     "data": {
      "image/png": "[encoded data removed]",
      "text/plain": [
       "<matplotlib.figure.Figure at 0xdd0deb8>"
      ]
     },
     "metadata": {},
     "output_type": "display_data"
    }
   ],
   "source": [
    "#plot autocorr\n",
    "from pandas.tools.plotting import autocorrelation_plot\n",
    "autocorrelation_plot(average_weekly_last['Last'])"
   ]
  },
  {
   "cell_type": "code",
   "execution_count": 22,
   "metadata": {
    "collapsed": false
   },
   "outputs": [
    {
     "data": {
      "image/png": "[encoded data removed]",
      "text/plain": [
       "<matplotlib.figure.Figure at 0xe05e320>"
      ]
     },
     "execution_count": 22,
     "metadata": {},
     "output_type": "execute_result"
    },
    {
     "data": {
      "image/png": "[encoded data removed]",
      "text/plain": [
       "<matplotlib.figure.Figure at 0xe05e320>"
      ]
     },
     "metadata": {},
     "output_type": "display_data"
    }
   ],
   "source": [
    "# Autocorrelation \n",
    "# https://coolstatsblog.com/2013/08/07/how-to-use-the-autocorreation-function-acf/\n",
    "# ACF is “decaying”, or decreasing, remains well above the significance range (dotted blue lines). This is indicative of a non-stationary series.\n",
    "from statsmodels.graphics.tsaplots import plot_acf\n",
    "plot_acf(average_weekly_last['Last'], lags=50)"
   ]
  },
  {
   "cell_type": "code",
   "execution_count": 23,
   "metadata": {
    "collapsed": true
   },
   "outputs": [],
   "source": [
    "# Split the weekly sales data in a training and test set - using 75% of the data for training\n",
    "n = len(average_weekly_last.Last)\n",
    "\n",
    "train = average_weekly_last.Last[:int(.75*n)]\n",
    "test = average_weekly_last.Last[int(.75*n):]"
   ]
  },
  {
   "cell_type": "code",
   "execution_count": 24,
   "metadata": {
    "collapsed": true
   },
   "outputs": [],
   "source": [
    "#Create an AR(1) model on the training data and compute the mean absolute error of the predictions.\n",
    "import statsmodels.api as sm\n",
    "from sklearn.metrics import mean_absolute_error"
   ]
  },
  {
   "cell_type": "code",
   "execution_count": 25,
   "metadata": {
    "collapsed": false
   },
   "outputs": [
    {
     "name": "stdout",
     "output_type": "stream",
     "text": [
      "                              ARMA Model Results                              \n",
      "==============================================================================\n",
      "Dep. Variable:                   Last   No. Observations:                  196\n",
      "Model:                     ARMA(1, 0)   Log Likelihood               -1026.611\n",
      "Method:                       css-mle   S.D. of innovations             45.178\n",
      "Date:                Sat, 13 May 2017   AIC                           2059.221\n",
      "Time:                        13:20:08   BIC                           2069.056\n",
      "Sample:                    04-22-2012   HQIC                          2063.203\n",
      "                         - 01-17-2016                                         \n",
      "==============================================================================\n",
      "                 coef    std err          z      P>|z|      [95.0% Conf. Int.]\n",
      "------------------------------------------------------------------------------\n",
      "const        248.9663    133.193      1.869      0.063       -12.088   510.021\n",
      "ar.L1.Last     0.9802      0.012     78.599      0.000         0.956     1.005\n",
      "                                    Roots                                    \n",
      "=============================================================================\n",
      "                 Real           Imaginary           Modulus         Frequency\n",
      "-----------------------------------------------------------------------------\n",
      "AR.1            1.0202           +0.0000j            1.0202            0.0000\n",
      "-----------------------------------------------------------------------------\n"
     ]
    }
   ],
   "source": [
    "#AR(1) model # To compute Mean absolute error\n",
    "\n",
    "model = sm.tsa.ARIMA(train, (1, 0, 0)).fit()\n",
    "print model.summary()\n",
    "#http://www.seanabu.com/2016/03/22/time-series-seasonal-ARIMA-model-in-python/\n",
    "#http://www.statsmodels.org/devel/examples/notebooks/generated/tsa_arma_0.html"
   ]
  },
  {
   "cell_type": "code",
   "execution_count": 26,
   "metadata": {
    "collapsed": false
   },
   "outputs": [
    {
     "data": {
      "text/plain": [
       "<matplotlib.axes._subplots.AxesSubplot at 0x10928128>"
      ]
     },
     "execution_count": 26,
     "metadata": {},
     "output_type": "execute_result"
    },
    {
     "data": {
      "image/png": "[encoded data removed]",
      "text/plain": [
       "<matplotlib.figure.Figure at 0x108f4a20>"
      ]
     },
     "metadata": {},
     "output_type": "display_data"
    }
   ],
   "source": [
    "model.resid.plot()"
   ]
  },
  {
   "cell_type": "code",
   "execution_count": 27,
   "metadata": {
    "collapsed": false,
    "scrolled": true
   },
   "outputs": [
    {
     "data": {
      "image/png": "[encoded data removed]",
      "text/plain": [
       "<matplotlib.figure.Figure at 0x10b9f400>"
      ]
     },
     "execution_count": 27,
     "metadata": {},
     "output_type": "execute_result"
    },
    {
     "data": {
      "image/png": "[encoded data removed]",
      "text/plain": [
       "<matplotlib.figure.Figure at 0x10b9f400>"
      ]
     },
     "metadata": {},
     "output_type": "display_data"
    }
   ],
   "source": [
    "plot_acf(model.resid, lags=30)"
   ]
  },
  {
   "cell_type": "code",
   "execution_count": 28,
   "metadata": {
    "collapsed": false
   },
   "outputs": [
    {
     "name": "stdout",
     "output_type": "stream",
     "text": [
      "                              ARMA Model Results                              \n",
      "==============================================================================\n",
      "Dep. Variable:                   Last   No. Observations:                  196\n",
      "Model:                     ARMA(2, 0)   Log Likelihood               -1010.218\n",
      "Method:                       css-mle   S.D. of innovations             41.516\n",
      "Date:                Sat, 13 May 2017   AIC                           2028.435\n",
      "Time:                        13:20:09   BIC                           2041.548\n",
      "Sample:                    04-22-2012   HQIC                          2033.744\n",
      "                         - 01-17-2016                                         \n",
      "==============================================================================\n",
      "                 coef    std err          z      P>|z|      [95.0% Conf. Int.]\n",
      "------------------------------------------------------------------------------\n",
      "const        256.4020     98.773      2.596      0.010        62.810   449.994\n",
      "ar.L1.Last     1.3654      0.065     20.905      0.000         1.237     1.493\n",
      "ar.L2.Last    -0.3926      0.066     -5.987      0.000        -0.521    -0.264\n",
      "                                    Roots                                    \n",
      "=============================================================================\n",
      "                 Real           Imaginary           Modulus         Frequency\n",
      "-----------------------------------------------------------------------------\n",
      "AR.1            1.0486           +0.0000j            1.0486            0.0000\n",
      "AR.2            2.4289           +0.0000j            2.4289            0.0000\n",
      "-----------------------------------------------------------------------------\n"
     ]
    }
   ],
   "source": [
    "model = sm.tsa.ARIMA(train, (2, 0, 0)).fit()\n",
    "print model.summary()"
   ]
  },
  {
   "cell_type": "code",
   "execution_count": 29,
   "metadata": {
    "collapsed": false
   },
   "outputs": [
    {
     "name": "stdout",
     "output_type": "stream",
     "text": [
      "                              ARMA Model Results                              \n",
      "==============================================================================\n",
      "Dep. Variable:                   Last   No. Observations:                  196\n",
      "Model:                     ARMA(2, 2)   Log Likelihood               -1004.162\n",
      "Method:                       css-mle   S.D. of innovations             40.222\n",
      "Date:                Sat, 13 May 2017   AIC                           2020.324\n",
      "Time:                        13:20:09   BIC                           2039.993\n",
      "Sample:                    04-22-2012   HQIC                          2028.287\n",
      "                         - 01-17-2016                                         \n",
      "==============================================================================\n",
      "                 coef    std err          z      P>|z|      [95.0% Conf. Int.]\n",
      "------------------------------------------------------------------------------\n",
      "const        256.4930     95.825      2.677      0.008        68.679   444.307\n",
      "ar.L1.Last     0.8920      0.150      5.955      0.000         0.598     1.186\n",
      "ar.L2.Last     0.0557      0.148      0.375      0.708        -0.235     0.346\n",
      "ma.L1.Last     0.5209      0.130      3.993      0.000         0.265     0.776\n",
      "ma.L2.Last     0.3913      0.080      4.902      0.000         0.235     0.548\n",
      "                                    Roots                                    \n",
      "=============================================================================\n",
      "                 Real           Imaginary           Modulus         Frequency\n",
      "-----------------------------------------------------------------------------\n",
      "AR.1            1.0520           +0.0000j            1.0520            0.0000\n",
      "AR.2          -17.0704           +0.0000j           17.0704            0.5000\n",
      "MA.1           -0.6655           -1.4535j            1.5986           -0.3183\n",
      "MA.2           -0.6655           +1.4535j            1.5986            0.3183\n",
      "-----------------------------------------------------------------------------\n"
     ]
    }
   ],
   "source": [
    "model = sm.tsa.ARIMA(train, (2, 0, 2)).fit()\n",
    "print model.summary()"
   ]
  },
  {
   "cell_type": "code",
   "execution_count": 30,
   "metadata": {
    "collapsed": false
   },
   "outputs": [
    {
     "name": "stdout",
     "output_type": "stream",
     "text": [
      "                             ARIMA Model Results                              \n",
      "==============================================================================\n",
      "Dep. Variable:                 D.Last   No. Observations:                  195\n",
      "Model:                 ARIMA(2, 1, 3)   Log Likelihood                -991.570\n",
      "Method:                       css-mle   S.D. of innovations             39.016\n",
      "Date:                Sat, 13 May 2017   AIC                           1997.141\n",
      "Time:                        13:20:09   BIC                           2020.052\n",
      "Sample:                    04-29-2012   HQIC                          2006.417\n",
      "                         - 01-17-2016                                         \n",
      "================================================================================\n",
      "                   coef    std err          z      P>|z|      [95.0% Conf. Int.]\n",
      "--------------------------------------------------------------------------------\n",
      "const            1.9850      3.864      0.514      0.608        -5.588     9.558\n",
      "ar.L1.D.Last     0.4208      0.139      3.023      0.003         0.148     0.694\n",
      "ar.L2.D.Last    -0.6223      0.131     -4.751      0.000        -0.879    -0.366\n",
      "ma.L1.D.Last    -0.0165      0.154     -0.107      0.915        -0.319     0.286\n",
      "ma.L2.D.Last     0.7041      0.136      5.159      0.000         0.437     0.972\n",
      "ma.L3.D.Last    -0.0251      0.130     -0.193      0.848        -0.281     0.231\n",
      "                                    Roots                                    \n",
      "=============================================================================\n",
      "                 Real           Imaginary           Modulus         Frequency\n",
      "-----------------------------------------------------------------------------\n",
      "AR.1            0.3381           -1.2217j            1.2677           -0.2070\n",
      "AR.2            0.3381           +1.2217j            1.2677            0.2070\n",
      "MA.1           -0.0136           -1.1911j            1.1912           -0.2518\n",
      "MA.2           -0.0136           +1.1911j            1.1912            0.2518\n",
      "MA.3           28.0560           -0.0000j           28.0560           -0.0000\n",
      "-----------------------------------------------------------------------------\n"
     ]
    }
   ],
   "source": [
    "model = sm.tsa.ARIMA(train, (2, 1, 3)).fit()\n",
    "print model.summary()"
   ]
  },
  {
   "cell_type": "code",
   "execution_count": null,
   "metadata": {
    "collapsed": true
   },
   "outputs": [],
   "source": []
  }
 ],
 "metadata": {
  "kernelspec": {
   "display_name": "Python 2",
   "language": "python",
   "name": "python2"
  },
  "language_info": {
   "codemirror_mode": {
    "name": "ipython",
    "version": 2
   },
   "file_extension": ".py",
   "mimetype": "text/x-python",
   "name": "python",
   "nbconvert_exporter": "python",
   "pygments_lexer": "ipython2",
   "version": "2.7.13"
  }
 },
 "nbformat": 4,
 "nbformat_minor": 2
}
